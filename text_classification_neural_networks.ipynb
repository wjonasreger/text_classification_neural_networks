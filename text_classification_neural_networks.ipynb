{
  "cells": [
    {
      "cell_type": "markdown",
      "metadata": {
        "id": "pSy-sfxOsclS"
      },
      "source": [
        "# Text Classification with Neural Networks\n",
        "In this notebook, machine learning models are implemented to predict the sentiment of movie reviews using the [IMDb movie reviews dataset](https://ai.stanford.edu/~amaas/data/sentiment/) through the `torchtext` package. Specifically, classifiers based on Convolutional Neural Networks (CNN's) and Recurrent Neural Networks (RNN's) are implemented."
      ]
    },
    {
      "cell_type": "markdown",
      "metadata": {
        "id": "zHbJ1-aDsWCG"
      },
      "source": [
        "## Load Packages\n",
        "\n",
        "First download the dataset using [torchtext](https://torchtext.readthedocs.io/en/latest/index.html), which is a package that supports NLP for PyTorch. \n",
        "\n",
        "The `torchdata` package will need to be installed prior to running. "
      ]
    },
    {
      "cell_type": "code",
      "source": [
        "import random\n",
        "from collections import defaultdict\n",
        "from tqdm.notebook import tqdm\n",
        "\n",
        "import torch\n",
        "import torchtext\n",
        "from torch.utils import data\n",
        "\n",
        "import torch.nn as nn\n",
        "import torch.nn.functional as F\n",
        "import torch.optim as optim\n",
        "\n",
        "random.seed(22)"
      ],
      "metadata": {
        "id": "C9Dnpnkca6t0"
      },
      "execution_count": 2,
      "outputs": []
    },
    {
      "cell_type": "code",
      "source": [
        "# set device to cuda for faster model training\n",
        "DEVICE = torch.device('cuda' if torch.cuda.is_available() else 'cpu')\n",
        "print('Using device:', DEVICE)"
      ],
      "metadata": {
        "colab": {
          "base_uri": "https://localhost:8080/"
        },
        "id": "L0mT9IVTa9yU",
        "outputId": "820e0936-265b-40ba-8391-f05928a1b83e"
      },
      "execution_count": 3,
      "outputs": [
        {
          "output_type": "stream",
          "name": "stdout",
          "text": [
            "Using device: cuda\n"
          ]
        }
      ]
    },
    {
      "cell_type": "markdown",
      "metadata": {
        "id": "bMVBA0ijAUgt"
      },
      "source": [
        "## Preprocess Data\n",
        "\n",
        "The train and test data are preprocessed and tokenized."
      ]
    },
    {
      "cell_type": "code",
      "execution_count": 4,
      "metadata": {
        "id": "dfX3bNby8FYL",
        "colab": {
          "base_uri": "https://localhost:8080/"
        },
        "outputId": "84d1532a-441c-45f6-ba61-653961565a0e"
      },
      "outputs": [
        {
          "output_type": "stream",
          "name": "stdout",
          "text": [
            "Num. Train Examples: 20000\n",
            "Num. Test Examples: 5000\n"
          ]
        }
      ],
      "source": [
        "def preprocess(review):\n",
        "  res = []\n",
        "  for x in review.split(' '):\n",
        "    remove_beg=True if x[0] in {'(', '\"', \"'\"} else False\n",
        "    remove_end=True if x[-1] in {'.', ',', ';', ':', '?', '!', '\"', \"'\", ')'} else False\n",
        "    if remove_beg and remove_end: res += [x[0], x[1:-1], x[-1]]\n",
        "    elif remove_beg: res += [x[0], x[1:]]\n",
        "    elif remove_end: res += [x[:-1], x[-1]]\n",
        "    else: res += [x]\n",
        "  return res\n",
        "\n",
        "train_data = torchtext.datasets.IMDB(root='.data', split='train')\n",
        "train_data = list(train_data)\n",
        "train_data = [(x[0], preprocess(x[1])) for x in train_data]\n",
        "train_data, test_data = train_data[0:10000] + train_data[12500:12500+10000], train_data[10000:12500] + train_data[12500+10000:], \n",
        "\n",
        "print('Num. Train Examples:', len(train_data))\n",
        "print('Num. Test Examples:', len(test_data))"
      ]
    },
    {
      "cell_type": "markdown",
      "source": [
        "Here some examples of reviews with a score and text from the pre-processed training data."
      ],
      "metadata": {
        "id": "HohMfMG1cFUj"
      }
    },
    {
      "cell_type": "code",
      "source": [
        "print(\"\\nSAMPLE DATA:\")\n",
        "for x in random.sample(train_data, 5):\n",
        "  print('Sample label:', x[0])\n",
        "  print('Sample text:', ' '.join(x[1]), '\\n')"
      ],
      "metadata": {
        "colab": {
          "base_uri": "https://localhost:8080/"
        },
        "id": "UkLpKvdBcRAn",
        "outputId": "1e71ea54-ad8c-42ac-8c8f-d1bc702917ab"
      },
      "execution_count": 5,
      "outputs": [
        {
          "output_type": "stream",
          "name": "stdout",
          "text": [
            "\n",
            "SAMPLE DATA:\n",
            "Sample label: neg\n",
            "Sample text: I felt asleep , watching it!! ! ( and I had tickets for the midnight- premiere ) Any questions ? The most disturbing scene , as far as I can remember , was the techno-dance-i-dont-know-what-that-was-scene . By the way what an ending! ? \n",
            "\n",
            "Sample label: neg\n",
            "Sample text: A warning to you not to be seduced by the names Bigelow and Red . _Undertow_ is pointless and unengaging , and made me think often of a phrase by Twain about wishing all the characters would be drowned together . When someone brings up the category of Worst Films Ever Made , it's not the likes of _Plan 9_ or _Attack of the Killer Shrews_ that I think of ; it's the likes of this . What a complete waste of time--my own and everyone who was involved with this flick . \n",
            "\n",
            "Sample label: neg\n",
            "Sample text: I saw this regurgitated pile of vignettes tonight at a preview screening and I was straight up blown away by how bad it was . <br /><br />First off , the film practically flaunted its gaping blind spots . There are no black or gay New Yorkers in love ? Or who , say , know the self-involved white people in love ? I know it's not the love Crash of anvil-tastic inclusiveness but you can't pretend to have a cinematic New York with out these fairly prevalent members of society . Plus , you know the people who produced this ish thought Crash deserved that ham-handed Oscar , so where is everyone ? <br /><br />Possibly worse than the bizarre and willful socioeconomic ignorance were the down right offensive chapters ( remember when you were in high school and people were openly disgusted with pretty young women in wheelchairs ? Me either) . This movie ran the gamut of ways to be the worst . Bad acting , bad writing , bad directing -- all spanning every possible genre ever to concern wealthy white people who smoke cigarettes outside fancy restaurants . <br /><br />But thank god they finally got powerhouses Hayden Christensen and Rachel Bilson back together for that Jumper reunion . And , side note , Uma dodged a bullet ; Ethan Hawke looks ravaged . This , of course , is one thing in terms of his looks , but added an incredibly creepy extra vibe of horribleness to his terrifyingly scripted scene opposite poor , lovely Maggie Q.<br /><br />I had a terrible time choosing my least favorite scene for the end of film questionnaire , but it has to be the Anton Yelchin/ Olivia Thirlby bit for the sheer lack of taste , which saddens me because I really like those two actors . I don't consider myself easily offended , but all I could do was scoff and look around with disgust like someone's 50 year old aunt . <br /><br />A close second place in this incredibly tight contest of terrible things is Shia LaBeouf's tone deaf portrayal of what it means for a former Disney Channel star to act against Julie Christie . I don't mean opposite , I mean against . Against is the only explanation . I realize now that the early sequence with Orlando Bloom is a relative highlight . HIGHLIGHT . Please keep that in mind when your brain begins to leak out your ear soon after the opening credits , which seem to be a nod to the first New York Real World . This film is embarrassing , strangely dated , inarticulate , ineffective , pretentious and , in the end , completely divorced from any real idea of New York at all . <br /><br />(The extra star is for the Cloris Leachman/ Eli Wallach sequence , as it is actually quite sweet , but it is only one bright spot in what feels like hours of pointless , masturbatory torment. ) \n",
            "\n",
            "Sample label: pos\n",
            "Sample text: Although critically maligned , Johnny Dangerously is one of the funniest movies I've ever seen . It's a movie that should be watched closely ; some of the funny bits are done in passing and do not have the usual amount of attention drawn to them . For instance , keep an eye on Michael Keaton's use of the pricing gun at the pet store...and also on the documentary-style years that appear at the beginning of scenes . It's one of those rare movies where the humor hits you unexpectedly , even though you know it's a comedy . Amy Heckerling , the director , is really sharp here--If you enjoyed her better known films ( Fast Times at Ridgemont High , Clueless , European Vacation , etc.,)you should give this one a look.<br /><br />Michael Keaton is extremely likable in the title role and the supporting cast ( Griffin Dunne , Maureen Stapleton , Joe Piscopo , Peter Boyle ) is excellent . Highly recommended . \n",
            "\n",
            "Sample label: neg\n",
            "Sample text: Surely one of the most ill-advised remakes of a classic in film history – especially since the promise of its tag-line , “The most beautiful woman of our time in the most erotic adventure of all time” , isn’t even properly exploited ! Although this film was regularly shown on TV in my neck of the woods since my childhood days , its notoriety ( for awfulness not erotic content , mind you ) kept me away from it until now – and I only relented because I have recently enjoyed Bo Derek’s previous film , 10 ( 1979) , and have been watching a lot of fantasy stuff as well over the Christmas period.<br /><br />Lead actress/producer Bo Derek is rather ridiculous playing the schoolgirl-ish sexual innocent ( witness the inept banana scene ) and , as was to be expected , she is made to get her clothes off a few times but , as welcome as these scenes were , she came off as far more sensual in 10 than she does here ; Richard Harris , then , chews the scenery incessantly as Jane’s obsessed explorer father , but John Philip Law barely registers as his aide who meekly shows some initial interest in Jane herself ; newcomer Miles O’Keeffe has the title role and he only makes his entrance 45 minutes into the movie , is completely silent throughout except for his famous yodel ( which is probably lifted from Johnny Weissmuller anyway! ) and , furthermore , is as inexpressive as one of the trees he dangles from at regular intervals throughout the film’s second half! ; for the record , he later starred in two ATOR movies ( or would-be CONAN imitators ) for Joe D’Amato and the King Arthur-era set , SWORD OF THE VALIANT ( 1984).<br /><br />When still an actor , director John Derek ( who also serves as his own cinematographer here ) had worked with some good film-makers ( Cecil B . De Mille , William Dieterle and Robert Rossen ) and a few great ones ( Otto Preminger , Nicholas Ray and Don Siegel ) but he clearly learned zilch from them as his direction of this one is a major liability : appallingly pretentious at times ( witness the perfectly horrid python attack sequence ) with a senseless overuse of the slow motion technique and cheesy transitions ; this was Derek’s seventh film as a director ( and his second of four with wife Bo ) and , eventually , he would only get to make two more.<br /><br />The film’s utter failure only needs to be gauged by the fact that the Tarzan legend was tackled once more on film – in GREYSTOKE : THE LEGEND OF TARZAN , LORD OF THE APES ( which , surprisingly enough , I haven’t watched myself yet ) – a mere three years later! ! Nominated for six Razzie Awards ( including John Derek , Richard Harris and Miles O’Keeffe ) and winning one for Bo Derek herself , TARZAN , THE APE MAN was co-written by Gary Goddard , the future director of another highly anticipated but ultimately disappointing transposition to the silver screen of a ( this time animated ) heroic figure , MASTER OF THE UNIVERSE ( 1987 ) which I will be revisiting presently as well ( yay) ! Despite a charming closing credit sequence showing Tarzan and Jane playing with around with an orang-utan and a music score that is not half bad actually and quite rousing on occasion , any belated good intentions are defeated by an extremely silly climax involving natives painting Bo completely white and , fatally , John Derek’s clear disinterest in the character of Tarzan himself which makes him come off as an unimportant supporting character in his own self-titled movie! ! \n",
            "\n"
          ]
        }
      ]
    },
    {
      "cell_type": "markdown",
      "metadata": {
        "id": "lvFX-iX5oq7T"
      },
      "source": [
        "## Dataloader: The `TextDataset` Class\n",
        "\n",
        "The dataset contains the tokenized data for the model. The following functions are implemented: \n",
        "\n",
        "* **Create Dictionaries** (i.e., `build_dictionary(self)`): Creates the dictionaries `idx2word` and `word2idx`. Each word in the dataset is represented with a unique index, that is stored in the dictionaries. The hyperparameter `threshold` is used to control word appearances in the dictionary.\n",
        "\n",
        "* **Text Conversion** (i.e., `convert_text(self)`): Converts each review in the dataset to a list of indices, given by the `word2idx` dictionary. This is stored in the `textual_ids` variable. Words not present in the `word2idx` dictionary are replaced with the `<UNK>` token.\n",
        "\n",
        "* **Get Text** (i.e., `get_text(self, idx)`): Returns the review at `idx` in the dataset as an array of indices corresponding to the words in the review. Padding or truncation is applied to the review. \n",
        "\n",
        "* **Get Label** (i.e., `get_label(self, idx)`): Returns the value `1` if the label for `idx` in the datset is `positive`, and `0` if it is `negative`. \n",
        "\n",
        "* **Get Number of Reviews** (i.e., `__len__(self)`): Returns the total number of reviews in the dataset.\n",
        "\n",
        "* **Get Item** (i.e., `__getitem__(self, idx)`): Returns the converted text, and the label."
      ]
    },
    {
      "cell_type": "code",
      "source": [
        "PAD = '<PAD>'\n",
        "END = '<END>'\n",
        "UNK = '<UNK>'"
      ],
      "metadata": {
        "id": "iXWAAAMQKxHB"
      },
      "execution_count": 6,
      "outputs": []
    },
    {
      "cell_type": "code",
      "execution_count": 7,
      "metadata": {
        "id": "1irMn3LX2YDB"
      },
      "outputs": [],
      "source": [
        "class TextDataset(data.Dataset):\n",
        "  def __init__(self, examples, split, threshold, max_len, idx2word=None, word2idx=None):\n",
        "    self.examples = examples\n",
        "    assert split in {'train', 'val', 'test'}\n",
        "    self.split = split\n",
        "    self.threshold = threshold\n",
        "    self.max_len = max_len\n",
        "\n",
        "    # dictionaries\n",
        "    self.idx2word = idx2word\n",
        "    self.word2idx = word2idx\n",
        "    if split == 'train':\n",
        "      self.build_dictionary()\n",
        "    self.vocab_size = len(self.word2idx)\n",
        "    \n",
        "    # convert text to indices\n",
        "    self.textual_ids = []\n",
        "    self.convert_text()\n",
        "  \n",
        "  def build_dictionary(self): \n",
        "    assert self.split == 'train'\n",
        "    self.idx2word = {0:PAD, 1:END, 2: UNK}\n",
        "    self.word2idx = {PAD:0, END:1, UNK: 2}\n",
        "\n",
        "    # build dictionaries\n",
        "    word_freq = defaultdict(float)\n",
        "    for review in self.examples:\n",
        "      text = review[1] # text of review\n",
        "      for word in text:\n",
        "        word_freq[word.lower()] += 1 # increment word frequency (lower cased)\n",
        "    for word in word_freq.keys():\n",
        "      if word_freq[word] >= self.threshold: # add new word and id to dictionaries once threshold is exceeded\n",
        "        new_id = len(self.idx2word)\n",
        "        self.idx2word[new_id] = word\n",
        "        self.word2idx[word] = new_id\n",
        "  \n",
        "  def convert_text(self):\n",
        "    for review in self.examples:\n",
        "      label = review[0]\n",
        "      text = review[1]\n",
        "      converted_text = []\n",
        "\n",
        "      # text conversion\n",
        "      converted_text = list(map(lambda word: self.word2idx[word] if word in self.word2idx.keys() else self.word2idx[UNK], text))\n",
        "      converted_text.append(self.word2idx[END])\n",
        "      self.textual_ids.append((label, converted_text))\n",
        "\n",
        "  def get_text(self, idx):\n",
        "    text = self.textual_ids[idx][1]\n",
        "\n",
        "    # pad or truncate the review as needed\n",
        "    updated_text = text[:self.max_len] if len(text) >= self.max_len else text + [0]*(self.max_len-len(text))\n",
        "    updated_text = torch.tensor(updated_text)\n",
        "\n",
        "    return updated_text\n",
        "  \n",
        "  def get_label(self, idx):\n",
        "    label = self.textual_ids[idx][0]\n",
        "    score = 1 if label == 'pos' else 0\n",
        "    score = torch.tensor(score) # sentiment score of the review as a tensor\n",
        "\n",
        "    return score\n",
        "\n",
        "  def __len__(self):\n",
        "    num = len(self.examples) # number of reviews\n",
        "\n",
        "    return num\n",
        "  \n",
        "  def __getitem__(self, idx):\n",
        "    # get the processed text and score of the review\n",
        "    review, label = self.get_text(idx), self.get_label(idx)\n",
        "\n",
        "    return review, label"
      ]
    },
    {
      "cell_type": "markdown",
      "metadata": {
        "id": "CR4VQbQCNZH6"
      },
      "source": [
        "The IMDb movie reviews are processed into a `TextDataset` object. Here is an example of a review item in the dataset."
      ]
    },
    {
      "cell_type": "code",
      "execution_count": 8,
      "metadata": {
        "id": "HSxpGXj6ml9N",
        "colab": {
          "base_uri": "https://localhost:8080/"
        },
        "outputId": "22994c58-41ee-46c9-9eb6-86c9e8e247e2"
      },
      "outputs": [
        {
          "output_type": "stream",
          "name": "stdout",
          "text": [
            "Vocab size: 19002 \n",
            "\n",
            "Example text:\n",
            "['\"', 'A', 'Guy', 'Thing', '\"', 'tries', 'to', 'capture', 'the', 'feeling', 'of', '\"', \"There's\", 'Something', 'About', 'Mary', '\"', 'or', '\"', 'Meet', 'the', 'Parents', '\"', 'but', 'comes', 'off', 'more', 'like', 'it', 'was', 'edited', 'up', 'out', 'of', 'cutting-room', 'rejects', 'of', 'those', 'two', 'films', '.', 'Thankfully', 'I', 'rented', 'it', 'on', 'a', '5-day', 'rental', 'because', 'I', \"couldn't\", 'sit', 'and', 'watch', 'more', 'than', '20', 'minutes', 'at', 'a', 'time.<br', '/><br', '/>The', 'premise', 'is', 'decent', 'and', 'I', 'liked', 'the', 'scenes', 'where', 'other', 'guys', 'automatically', 'cover', 'up', 'for', \"Paul's\", 'missteps', '(', 'the', 'checker', 'at', 'the', 'Save-mart', 'was', 'great', ')', 'but', 'the', 'script-writing', 'is', 'absolutely', 'horrible', '.', 'The', 'dialog', 'falls', 'flat', 'most', 'of', 'the', 'time', 'and', 'just', 'when', 'you', 'think', 'that', 'things', 'are', 'finally', 'going', 'to', 'get', 'on', 'track', 'some', 'needless', 'sight-gag', 'is', 'stuck', 'in', 'for', 'no', 'good', 'reason', '.', 'Plus', 'how', 'many', 'toilet', 'jokes', 'does', 'one', 'movie', 'really', 'need?<br', '/><br', \"/>Don't\", 'get', 'me', 'wrong', ',', 'slapstick', 'humor', 'is', 'great', 'when', \"it's\", 'smartly', 'done', 'as', 'in', 'the', 'other', 'films', 'I', 'mentioned', ',', 'but', 'this', 'movie', 'simply', 'misses', 'the', 'mark', '.', 'Too', 'bad', 'as', 'I', 'love', 'Julia', 'Stiles', '(', 'Ten', 'Things', 'I', 'Hate', 'About', 'You', 'was', 'great', ')', 'but', 'even', 'that', \"couldn't\", 'help', 'me', 'sit', 'through', 'this', 'terrible', 'movie', '.', 'Save', 'your', 'dollars', 'and', 'go', 'rent', '\"', \"There's\", 'Something', 'About', 'Mary', '\"', 'one', 'more', 'time', '.']\n",
            "tensor([   45,     2,     2,     2,    45,   721,    34,  5645,    13,  2314,\n",
            "           11,    45,     2,     2,     2,     2,    45,   245,    45,     2,\n",
            "           13,     2,    45,   180,   309,   576,   743,   127,    17,    19,\n",
            "         3480,   314,   325,    11,     2, 11934,    11,   221,   334,    43,\n",
            "           24,     2,     2,     4,    17,    80,    41,     2,   770,    10,\n",
            "            2,   482,   962,    91,   771,   743,   161,  1304,  1026,    27,\n",
            "           41,  1351,    52,     2,  3001,    55,  1733,    91,     2,   993,\n",
            "           13,   118,   213,   528,  1327,  2930,   996,   314,    50,     2,\n",
            "            2,   175,    13,     2,    27,    13,     2,    19,   687,   179,\n",
            "          180,    13,     2,    55,   546,   579,    24,     2,  2718,  1065,\n",
            "         5099,   345,    11,    13,   323,    91,   162,    18,   267,   376,\n",
            "           15,   784,   119,   395,   359,    34,   384,    80,  1424,    77,\n",
            "         7408,     2,    55,  2235,    22,    50,   176,   143,   401,    24,\n",
            "            2,   531,   303,  3934,   838,   305,   253,   369,    47,     2,\n",
            "           52,     2,   384,   112,   499,    38,   900,  4968,    55,   687])\n",
            "\n",
            "Example label:\n",
            "neg\n",
            "tensor(0)\n"
          ]
        }
      ],
      "source": [
        "train_dataset = TextDataset(train_data, 'train', threshold=10, max_len=150)\n",
        "print('Vocab size:', train_dataset.vocab_size, '\\n')\n",
        "\n",
        "randidx = random.randint(0, len(train_dataset)-1)\n",
        "text, label = train_dataset[randidx]\n",
        "print('Example text:')\n",
        "print(train_data[randidx][1])\n",
        "print(text)\n",
        "print('\\nExample label:')\n",
        "print(train_data[randidx][0])\n",
        "print(label)"
      ]
    },
    {
      "cell_type": "markdown",
      "metadata": {
        "id": "VcSKydlClwOC"
      },
      "source": [
        "## Convolutional Neural Network: The `CNN` Class\n",
        "The convolutional neural network for text classification is defined here. The following functions are implemented:\n",
        "\n",
        "* **Initialization** (i.e., `__init__(self, ...)`): Initializes the following layers and other features for the neural network.\n",
        "    * An embedding layer to represent the words in the vocabulary.\n",
        "    * Multiple convolution layers with filter size based on different filter heights. There is one input channel, and specific number of output channels for different filters to train the model on.\n",
        "    * A dropout layer with specified `dropout`.\n",
        "    * A linear layer with concatenated output of all cnn layers as input (i.e., size is number of out channels across all filter heights) with output to each class (i.e. size is number of classes).\n",
        "\n",
        "* **Feed Forward** (i.e., `forward(self, texts)`): Iteratively pass texts (with shape `[batch_size, max_len]`) through layers and compute the output as described below. Since each CNN looks at different filter heights (i.e. n-grams), the model will look at different number of words at a time. Each CNN will learn `out_channel` number of features from the words it sees at a time. Then non-linearity and max-pooling are applied to all channels to find any important n-grams in the entire text. Everything is performed on a batch simultaneously, hence the `batch_size` dimension is used in many of the steps discussed below.\n",
        "    * Pass texts through the embedding layer. The output shape is `[batch_size, max_len, embed_size]`.\n",
        "    * Modify dimensions of embedded output to fit into multiple convolution layers (i.e., output shape is `[batch_size, 1, max_len, embed_size]`).\n",
        "    * Pass the text embeddings into each convolution layer. Output will have shape `[batch_size, out_channels, *, 1]` where `*` depends on `filter_height` and `stride`.\n",
        "    * Convert the output shape to `[batch_size, out_channels, *]`.\n",
        "    * Apply non-linearity on the output with ReLU function.\n",
        "    * Take the max value across last dimension to have shape `[batch_size, out_channels]`\n",
        "    * Concatenate outputs from all CNN layers with shape `[batch_size, (out_channels*num_cnn_layers)]`\n",
        "    * Pass the output through the linear layer with shape `[batch_size, num_classes]`"
      ]
    },
    {
      "cell_type": "code",
      "execution_count": 9,
      "metadata": {
        "id": "0ztuy2hUaAof"
      },
      "outputs": [],
      "source": [
        "class CNN(nn.Module):\n",
        "  def __init__(self, vocab_size, embed_size, out_channels, filter_heights, stride, dropout, num_classes, pad_idx):\n",
        "    super(CNN, self).__init__()\n",
        "\n",
        "    # embedding layer\n",
        "    self.embedding = nn.Embedding(num_embeddings=vocab_size, embedding_dim=embed_size, padding_idx=pad_idx)\n",
        "    # multiple convolution layers\n",
        "    self.conv_layers = nn.ModuleList( [nn.Conv2d(in_channels=1, out_channels=out_channels, kernel_size=[filter_height, embed_size]) for filter_height in filter_heights] )\n",
        "    # dropout layer\n",
        "    self.dropout = nn.Dropout(dropout)\n",
        "    # linear layer\n",
        "    self.linear = nn.Linear(out_channels * len(filter_heights), num_classes)\n",
        "\n",
        "  def forward(self, texts):\n",
        "    # embed texts -- [batch_size, max_len, embed_size]\n",
        "    x = self.embedding(texts)\n",
        "    # modify embedded output dimensions -- [batch_size, 1, MAX_LEN, embed_size] (i.e., unsqueeze)\n",
        "    x = x.unsqueeze(1)\n",
        "    # pass embedded texts into cnn layers -- [batch_size, out_channels, *, 1]\n",
        "    # modify dimension of outputs -- [batch_size, out_channels, *] (i.e., squeeze)\n",
        "    # apply non-linearity\n",
        "    x = [ F.relu( conv_layer(x) ).squeeze(3) for conv_layer in self.conv_layers ]\n",
        "    # get max value across last dimension via pooling -- [batch_size, out_channels]\n",
        "    x = [ F.max_pool1d( value, value.size(2) ).squeeze(2) for value in x ]\n",
        "    # concatenate outputs from cnn layers -- [batch_size, (out_channels*num_of_cnn_layers)]\n",
        "    x = torch.cat(x, 1)\n",
        "    # apply dropout\n",
        "    x = self.dropout(x)\n",
        "    # pass output through linear layer -- [batch_size, num_classes]\n",
        "    x = self.linear(x)\n",
        "\n",
        "    # a softmax is applied later in model training\n",
        "    return x"
      ]
    },
    {
      "cell_type": "code",
      "source": [
        "# helper function to count number of parameters in a model\n",
        "count_parameters = lambda model: sum(p.numel() for p in model.parameters() if p.requires_grad)"
      ],
      "metadata": {
        "id": "XfGVvzMgdlew"
      },
      "execution_count": 10,
      "outputs": []
    },
    {
      "cell_type": "markdown",
      "metadata": {
        "id": "FupiBIfasCu_"
      },
      "source": [
        "### Model Training\n",
        "\n",
        "First, the train and test dataloaders are initialized. A dataloader is responsible for providing batches of data to the model. The datasets for the train and test data are instantiated first, then the training vocabulary is used for both."
      ]
    },
    {
      "cell_type": "code",
      "execution_count": 11,
      "metadata": {
        "id": "J2QYl334n9ON",
        "colab": {
          "base_uri": "https://localhost:8080/"
        },
        "outputId": "425b887f-51a8-4a12-fef9-c0299d8877a9"
      },
      "outputs": [
        {
          "output_type": "stream",
          "name": "stdout",
          "text": [
            "train vocab size: 29730\n",
            "test vocab size: 29730\n"
          ]
        }
      ],
      "source": [
        "# adjustable parameters (defaults: THRESHOLD=5, MAX_LEN=200, BATCH_SIZE=32)\n",
        "THRESHOLD = 5\n",
        "MAX_LEN = 200\n",
        "BATCH_SIZE = 32\n",
        "\n",
        "train_dataset = TextDataset(train_data, 'train', THRESHOLD, MAX_LEN)\n",
        "train_loader = torch.utils.data.DataLoader(train_dataset, batch_size=BATCH_SIZE, shuffle=True, num_workers=2, drop_last=True)\n",
        "print('train vocab size:', train_dataset.vocab_size)\n",
        "\n",
        "test_dataset = TextDataset(test_data, 'test', THRESHOLD, MAX_LEN, train_dataset.idx2word, train_dataset.word2idx)\n",
        "test_loader = torch.utils.data.DataLoader(test_dataset, batch_size=1, shuffle=False, num_workers=1, drop_last=False)\n",
        "print('test vocab size:', test_dataset.vocab_size)"
      ]
    },
    {
      "cell_type": "markdown",
      "metadata": {
        "id": "AvsctopWmeoY"
      },
      "source": [
        "Here is a function to train the CNN model on the data.\n",
        "\n",
        "If it is necessary to save the model periodically, here is a resource for that: https://pytorch.org/tutorials/beginner/saving_loading_models.html."
      ]
    },
    {
      "cell_type": "code",
      "execution_count": 12,
      "metadata": {
        "id": "LD-Jj2rUFOzr"
      },
      "outputs": [],
      "source": [
        "def train_model(model, num_epochs, data_loader, optimizer, criterion):\n",
        "  print('Training Model...')\n",
        "  model.train()\n",
        "  for epoch in tqdm(range(num_epochs)):\n",
        "    epoch_loss = 0\n",
        "    epoch_acc = 0\n",
        "    for texts, labels in data_loader:\n",
        "      texts = texts.to(DEVICE) # shape: [batch_size, MAX_LEN]\n",
        "      labels = labels.to(DEVICE) # shape: [batch_size]\n",
        "\n",
        "      optimizer.zero_grad()\n",
        "\n",
        "      output = model(texts)\n",
        "      acc = accuracy(output, labels)\n",
        "      \n",
        "      loss = criterion(output, labels)\n",
        "      loss.backward()\n",
        "      optimizer.step()\n",
        "\n",
        "      epoch_loss += loss.item()\n",
        "      epoch_acc += acc.item()\n",
        "    print('[TRAIN]\\t Epoch: {:2d}\\t Loss: {:.4f}\\t Train Accuracy: {:.2f}%'.format(epoch+1, epoch_loss/len(data_loader), 100*epoch_acc/len(data_loader)))\n",
        "  print('Model Trained!\\n')"
      ]
    },
    {
      "cell_type": "markdown",
      "source": [
        "Here is a helper function to compute model accuracy per batch."
      ],
      "metadata": {
        "id": "UumC5haNbtEM"
      }
    },
    {
      "cell_type": "code",
      "execution_count": 13,
      "metadata": {
        "id": "zVP2scuyhG5f"
      },
      "outputs": [],
      "source": [
        "def accuracy(output, labels):\n",
        "  preds = output.argmax(dim=1) # find predicted class\n",
        "  correct = (preds == labels).sum().float() # convert into float for division \n",
        "  acc = correct / len(labels)\n",
        "  return acc"
      ]
    },
    {
      "cell_type": "markdown",
      "metadata": {
        "id": "YjvX5c6Isw9e"
      },
      "source": [
        "Model instantiantiation with hyperparameters.\n",
        "\n",
        "Recommended hyperparameters: \n",
        "* Vocabulary size: `train_dataset.vocab_size` (Don't change)\n",
        "* Embedding size: `128`\n",
        "* Number of out channels: `64`\n",
        "* Filter heights (i.e., n-gram sizes): `[2, 3, 4]`\n",
        "* Stride: `1`\n",
        "* Dropout: `0.5`\n",
        "* Number of classes: `2` (Don't change)\n",
        "* Pad token index: `train_dataset.word2idx[PAD]` (Don't change)"
      ]
    },
    {
      "cell_type": "code",
      "execution_count": 14,
      "metadata": {
        "id": "M5UtdjGDuBty",
        "colab": {
          "base_uri": "https://localhost:8080/"
        },
        "outputId": "767486c2-8c5a-4434-f495-eca1f007ea62"
      },
      "outputs": [
        {
          "output_type": "stream",
          "name": "stdout",
          "text": [
            "The model has 3,879,746 trainable parameters\n"
          ]
        }
      ],
      "source": [
        "cnn_model = CNN(vocab_size = train_dataset.vocab_size,\n",
        "            embed_size = 128, \n",
        "            out_channels = 64, \n",
        "            filter_heights = [2, 3, 4], \n",
        "            stride = 1, \n",
        "            dropout = 0.5, \n",
        "            num_classes = 2,\n",
        "            pad_idx = train_dataset.word2idx[PAD])\n",
        "\n",
        "# load the model on the device (cuda or cpu)\n",
        "cnn_model = cnn_model.to(DEVICE)\n",
        "\n",
        "print('The model has {:,d} trainable parameters'.format(count_parameters(cnn_model)))"
      ]
    },
    {
      "cell_type": "markdown",
      "metadata": {
        "id": "SeHpqw6zvkhI"
      },
      "source": [
        "The criterion, or loss function, is cross-entropy loss (https://en.wikipedia.org/wiki/Cross_entropy).\n",
        "\n",
        "The optimizer, which performs gradient descent, is the Adam optimizer (https://arxiv.org/pdf/1412.6980.pdf)."
      ]
    },
    {
      "cell_type": "code",
      "execution_count": 15,
      "metadata": {
        "id": "FoeyQL4PoNoH"
      },
      "outputs": [],
      "source": [
        "LEARNING_RATE = 5e-4 # adjustable parameter (default=5e-4)\n",
        "\n",
        "# loss function\n",
        "criterion = nn.CrossEntropyLoss().to(DEVICE)\n",
        "\n",
        "# optimizer\n",
        "optimizer = optim.Adam(cnn_model.parameters(), lr=LEARNING_RATE)"
      ]
    },
    {
      "cell_type": "markdown",
      "metadata": {
        "id": "RopLfAJ9wOHN"
      },
      "source": [
        "Here the model is trained (it is recommended to use GPU for faster training time ~4 minutes)."
      ]
    },
    {
      "cell_type": "code",
      "execution_count": 16,
      "metadata": {
        "id": "lPOs1FifoNoN",
        "colab": {
          "base_uri": "https://localhost:8080/",
          "height": 275,
          "referenced_widgets": [
            "926559cbbb094ffeb96d5dac2afe02f4",
            "99027d20afb142a5aa40a35582c6926d",
            "c074487989f24788b20646941f3a14d3",
            "582e97c665ef452b955b74fad8f1a8b0",
            "31c25a122de348e089d55c7ca8e8c098",
            "a60eb082ff854b7bb5bd3bdc40b3f589",
            "e19b9b11aa5049ad8bef6c363087594c",
            "7c66721888034de69865c5a178dbd438",
            "a0623b2409b5446984579b8e64ad6d3b",
            "70dc4fb7c2f544478656914384cbe8c8",
            "2865e9e997834be9ae710dbeb5da5024"
          ]
        },
        "outputId": "b6d6ed13-507a-44a3-df93-55f287d2c720"
      },
      "outputs": [
        {
          "output_type": "stream",
          "name": "stdout",
          "text": [
            "Training Model...\n"
          ]
        },
        {
          "output_type": "display_data",
          "data": {
            "text/plain": [
              "  0%|          | 0/10 [00:00<?, ?it/s]"
            ],
            "application/vnd.jupyter.widget-view+json": {
              "version_major": 2,
              "version_minor": 0,
              "model_id": "926559cbbb094ffeb96d5dac2afe02f4"
            }
          },
          "metadata": {}
        },
        {
          "output_type": "stream",
          "name": "stdout",
          "text": [
            "[TRAIN]\t Epoch:  1\t Loss: 0.6779\t Train Accuracy: 61.05%\n",
            "[TRAIN]\t Epoch:  2\t Loss: 0.5426\t Train Accuracy: 72.02%\n",
            "[TRAIN]\t Epoch:  3\t Loss: 0.4892\t Train Accuracy: 76.11%\n",
            "[TRAIN]\t Epoch:  4\t Loss: 0.4473\t Train Accuracy: 79.19%\n",
            "[TRAIN]\t Epoch:  5\t Loss: 0.4126\t Train Accuracy: 81.21%\n",
            "[TRAIN]\t Epoch:  6\t Loss: 0.3774\t Train Accuracy: 83.26%\n",
            "[TRAIN]\t Epoch:  7\t Loss: 0.3465\t Train Accuracy: 84.80%\n",
            "[TRAIN]\t Epoch:  8\t Loss: 0.3096\t Train Accuracy: 86.72%\n",
            "[TRAIN]\t Epoch:  9\t Loss: 0.2774\t Train Accuracy: 88.42%\n",
            "[TRAIN]\t Epoch: 10\t Loss: 0.2426\t Train Accuracy: 90.01%\n",
            "Model Trained!\n",
            "\n"
          ]
        }
      ],
      "source": [
        "N_EPOCHS = 10 # adjustable parameter (default=10)\n",
        "\n",
        "# train model for N_EPOCHS epochs\n",
        "train_model(cnn_model, N_EPOCHS, train_loader, optimizer, criterion)"
      ]
    },
    {
      "cell_type": "markdown",
      "metadata": {
        "id": "Q-OJbZ72t6Yq"
      },
      "source": [
        "### Model Evaluation\n",
        "\n",
        "Here is a function to perform evaluation of the trained model."
      ]
    },
    {
      "cell_type": "code",
      "execution_count": 17,
      "metadata": {
        "id": "vTiiYDZIF--7"
      },
      "outputs": [],
      "source": [
        "def evaluate(model, data_loader, criterion, use_tqdm=False):\n",
        "  print('Evaluating performance on the test dataset...')\n",
        "  model.eval()\n",
        "  epoch_loss = 0\n",
        "  epoch_acc = 0\n",
        "  all_predictions = []\n",
        "  print(\"\\nSOME PREDICTIONS FROM THE MODEL:\")\n",
        "  iterator = tqdm(data_loader) if use_tqdm else data_loader\n",
        "  total = 0\n",
        "  for texts, labels in iterator:\n",
        "    bs = texts.shape[0]\n",
        "    total += bs\n",
        "    texts = texts.to(DEVICE)\n",
        "    labels = labels.to(DEVICE)\n",
        "    \n",
        "    output = model(texts)\n",
        "    acc = accuracy(output, labels) * len(labels)\n",
        "    pred = output.argmax(dim=1)\n",
        "    all_predictions.append(pred)\n",
        "    \n",
        "    loss = criterion(output, labels) * len(labels)\n",
        "    \n",
        "    epoch_loss += loss.item()\n",
        "    epoch_acc += acc.item()\n",
        "\n",
        "    if random.random() < 0.0015 and bs == 1:\n",
        "      print(\"Prediction:\", pred.item(), '\\tCorrect Output:', labels.item())\n",
        "      print(\"Input: \"+' '.join([data_loader.dataset.idx2word[idx] for idx in texts[0].tolist() if idx not in {data_loader.dataset.word2idx[PAD], data_loader.dataset.word2idx[END]}]), '\\n')\n",
        "\n",
        "  full_acc = 100*epoch_acc/total\n",
        "  full_loss = epoch_loss/total\n",
        "  print('[TEST]\\t Loss: {:.4f}\\t Accuracy: {:.2f}%'.format(full_loss, full_acc))\n",
        "  predictions = torch.cat(all_predictions)\n",
        "  return predictions, full_acc, full_loss"
      ]
    },
    {
      "cell_type": "code",
      "execution_count": 18,
      "metadata": {
        "id": "Z718w8e0oNoS",
        "colab": {
          "base_uri": "https://localhost:8080/",
          "height": 659,
          "referenced_widgets": [
            "1a14010cbc374183a341a377b45d478c",
            "140f446b3717414cbbe83baa48ae1e3f",
            "94e9a42a926f4ae5978e7c5bcd4f46ba",
            "b010deff55814a9bb5502d304f205281",
            "2b1e2ddaf9eb4cc0accb9a7375229c0f",
            "06d0c0da2c7548cba04ecfcaa85aa989",
            "98cf1e6b29d14238b5723d88a73ccc30",
            "bfde66d9875f4663bffe1976f691538e",
            "317b909977c744f4ac6fef92f892d9cc",
            "60c007656db04199a5618d69f05c7ab5",
            "934a3a2810b243f286b0b9c5a84e0102"
          ]
        },
        "outputId": "198d80de-0a95-4d21-91ad-70d7516b9b7d"
      },
      "outputs": [
        {
          "output_type": "stream",
          "name": "stdout",
          "text": [
            "Evaluating performance on the test dataset...\n",
            "\n",
            "SOME PREDICTIONS FROM THE MODEL:\n"
          ]
        },
        {
          "output_type": "display_data",
          "data": {
            "text/plain": [
              "  0%|          | 0/5000 [00:00<?, ?it/s]"
            ],
            "application/vnd.jupyter.widget-view+json": {
              "version_major": 2,
              "version_minor": 0,
              "model_id": "1a14010cbc374183a341a377b45d478c"
            }
          },
          "metadata": {}
        },
        {
          "output_type": "stream",
          "name": "stdout",
          "text": [
            "Prediction: 1 \tCorrect Output: 0\n",
            "Input: <UNK> thinking of the revelation that the main character in \" <UNK> \" comes to at films end , <UNK> am reminded of last years \" <UNK> \" with <UNK> <UNK> . <UNK> only difference between the two films is the literal physical weight of the characters.<br /><br <UNK> understated , yet entirely realistic portrayal of small town life . <UNK> title is cause for contemplation . <UNK> , we , the audience are the ones in the \" <UNK> \" as we are given no <UNK> in the films slim 90 minute running time . <UNK> reactions were often smug and judgmental , clearly indicating how detached people can be from seeing any thread of humanity in characters so foreign to themselves . <UNK> characters are the ones people refer to as those that put <UNK> <UNK> . back in office for a second <UNK> /><br <UNK> <UNK> to consider how reality television has spoiled our sense of reality when watching an audience jump to their feet for the exit as soon as the credits role . <UNK> film has it's merits , and is deserving of consideration for the things it doesn't say outright . \n",
            "\n",
            "Prediction: 0 \tCorrect Output: 0\n",
            "Input: <UNK> isn't it ? <UNK> all the good work done by <UNK> and <UNK> , the movie never grew into something more than a horrible <UNK> movies copycat . <UNK> a couple of jokes , no absolutely no unpredictable twists , to be honest the only unpredictable moments are there because both director and editor made some stupid mistakes , it is a shame for them and a waste of time for us . <UNK> someone can tell me why on earth were they digging a hole inside that safe , who the hell is the <UNK> and how on earth did they know that the diamonds were in the particular cell , it could just make my day , but it seems that <UNK> asks us to take too much things in this one for granted , and do not raise our eyebrows when something looks <UNK> just another studio contract movie relax and <UNK> . \n",
            "\n",
            "Prediction: 0 \tCorrect Output: 0\n",
            "Input: <UNK> a killer combo of terrible writing , terrible acting and terrible direction , it's a <UNK> whether <UNK> : <UNK> <UNK> is offensively bad or just hilariously bad . <UNK> almost as if someone ran a competition to make the <UNK> , <UNK> <UNK> film . <UNK> if a glance at a cast list including characters like ' <UNK> <UNK> ' ' <UNK> <UNK> ' ' <UNK> <UNK> ' weren't enough , it's your only chance to see <UNK> <UNK> cop throw a <UNK> on a bed and grab a <UNK> - but don't worry , it's okay , as the offscreen screams make clear he's only torturing him for information . <UNK> all , even if he is a bit overprotective of his nice <UNK> daughter , he's a nice <UNK> cop who regularly brings local <UNK> priest <UNK> <UNK> a packed lunch and who believes in poetic justice - or at least ensuring that the bad guys end up in the <UNK> with the <UNK> inmates maximum security can provide to give them a taste of their own medicine . <UNK> then that's what you get for telling him \" <UNK> , <UNK> think you're a little \n",
            "\n",
            "Prediction: 1 \tCorrect Output: 0\n",
            "Input: <UNK> confess having fantasies about <UNK> <UNK> is a pretty tough admission for an heterosexual to make . <UNK> what can <UNK> tell you ? <UNK> is that famous extra something that everybody talks about and makes a star a star . <UNK> crosses that barrier . <UNK> pulls you into unknown sensual and emotional territory . <UNK> had it in spades , <UNK> <UNK> , <UNK> <UNK> , <UNK> <UNK> of course and in more recent times , <UNK> <UNK> , <UNK> <UNK> , <UNK> <UNK> , <UNK> <UNK> and <UNK> <UNK> . <UNK> fell in love with <UNK> , <UNK> , <UNK> and <UNK> <UNK> , <UNK> <UNK> , <UNK> <UNK> , <UNK> <UNK> , <UNK> <UNK> , <UNK> <UNK> , <UNK> <UNK> , <UNK> <UNK> and very very recently <UNK> <UNK> . <UNK> <UNK> <UNK> has , singlehandedly , redefined the concept . <UNK> is the only reason to go out , get in the car , find parking , buy a ticket , popcorn and get into a theatre to see \" <UNK> \" <UNK> you liked epics in the \" <UNK> <UNK> \" style you may enjoy this . <UNK> if you don't , go \n",
            "\n",
            "Prediction: 0 \tCorrect Output: 0\n",
            "Input: <UNK> <UNK> <UNK> <UNK> should be required viewing in any film production course ! <UNK> a textbook example of how <UNK> to make a movie . <UNK> the movie and then listening to the <UNK> commentary demonstrates graphically the vast <UNK> between what he knows about the characters and what he communicates to his audience about them . <UNK> me old-fashioned , but <UNK> think of movies as a means of communication , and communication isn't complete if the audience doesn't know what the hell the director is talking about . <UNK> director's <UNK> purpose is to make a movie void of \" <UNK> <UNK> . <UNK> those conventions , alas , is consistency of character and clarity of concept . <UNK> director himself realizes that audiences often don't understand points where he has purposely avoided a \" <UNK> <UNK> . <UNK> , he never seems to grasp the idea that clichés exist for a reason . <UNK> are shorthand for conveying complex ideas quickly and clearly . <UNK> fine to avoid them , but they need to be replaced with some other way of communicating the same idea , not simply eliminated . <UNK> film is built on an \n",
            "\n",
            "Prediction: 1 \tCorrect Output: 1\n",
            "Input: <UNK> a slow beginning , <UNK> <UNK> is a very funny film that had something positive to say . <UNK> wasn't one of <UNK> <UNK> best performances , but he was still <UNK> . <UNK> <UNK> was just right as <UNK> . <UNK> <UNK> had some good moments . <UNK> miss <UNK> <UNK> on \" <UNK> <UNK> <UNK> /><br <UNK> like director <UNK> <UNK> choices of movies . <UNK> also did <UNK> <UNK> , <UNK> <UNK> , and <UNK> <UNK> <UNK> . <UNK> all three of those and in <UNK> <UNK> , he takes a big comedy star and tells a human story with him . <UNK> director who knows comedy , can get the talent he gets , and can tell a meaningful and intelligent story with it is hard to <UNK> /><br <UNK> biggest complaint is that they should have used more biblical references . <UNK> only remember three specific biblical references and they were the three funniest parts of the whole movie . <UNK> guess is that the first few <UNK> of the screenplay had more biblical references , but they were cut out because the producers were afraid of offending people . <UNK> too bad because \n",
            "\n",
            "Prediction: 1 \tCorrect Output: 1\n",
            "Input: <UNK> ! <UNK> 70's sex trash ! <UNK> <UNK> gal ( <UNK> ) was what made this movie so great . <UNK> was beautiful , but what really got to me was how sexual she was . <UNK> exuded massive quantities of sexuality throughout the film . <UNK> best scenes were when she was , er , stimulating herself . <UNK> she was on screen , <UNK> became <UNK> /><br <UNK> , the <UNK> <UNK> ( sister of the dimwitted male focus of the film ) was very interesting visually . <UNK> most 12 year old girls have bigger breasts than <UNK> , she knew how to use what little she had and her scenes ( especially the scenes with the silk blouse and black skirt ) also grabbed my attention <UNK> . <UNK> also got to love the major <UNK> scene where the bats stripped her <UNK> ; <UNK> don't know if <UNK> ever seen anything more ludicrous yet sexy at the same time . <UNK> stuff ! \n",
            "\n",
            "Prediction: 1 \tCorrect Output: 1\n",
            "Input: <UNK> <UNK> <UNK> <UNK> finds <UNK> <UNK> an outlaw doing a long sentence breaking free from a chain gang . <UNK> he and his friends head for the <UNK> border from jail and safety . <UNK> they don't because <UNK> has a mission of revenge . <UNK> kill the peace officer who brought him in and in the process killed his woman.<br /><br <UNK> peace officer is <UNK> <UNK> who is now retired and he knows what <UNK> is after . <UNK> he explains it to his daughter , <UNK> <UNK> , <UNK> was holed up in a shack and was involved in a <UNK> like <UNK> . <UNK> <UNK> woman was killed in the hail of bullets fired . <UNK> not something he's proud of , she was a <UNK> casualty in a <UNK> /><br <UNK> we feel sorry for <UNK> he lets us know full well what an evil man he truly is . <UNK> is his usual stalwart hero , but the acting honors in <UNK> <UNK> <UNK> <UNK> go to <UNK> <UNK> . <UNK> blows everyone else off the screen when he's on . <br /><br <UNK> gets the bright idea of making sure <UNK> trails \n",
            "\n",
            "Prediction: 1 \tCorrect Output: 1\n",
            "Input: \" <UNK> \" is a far from great film , from a stage play , directed by <UNK> <UNK> . <UNK> the scheme of <UNK> films , this is above the level of most of his <UNK> <UNK> <UNK> \" work , which is characterised by judicious use of <UNK> <UNK> as lead actress . <UNK> actually very good here , and far from the problem in other <UNK> films like \" <UNK> <UNK> \" and \" <UNK> <UNK> . <UNK> the \" <UNK> , who is <UNK> <UNK> , <UNK> is very effective , portraying her as a thoroughly depressive , but likeable siren . <UNK> plays well alongside <UNK> <UNK> as <UNK> , who is excellent to say the least . <UNK> looks the part admirably , and while <UNK> <UNK> doesn't look exactly like <UNK> , she certainly is attractive enough to make the part ring true . <UNK> players are adequate if not quite as arresting as <UNK> and <UNK> are . <UNK> pretty workable , intelligent script is directed well by <UNK> , but certainly not brilliantly , like \" <UNK> \" or \" <UNK> . <UNK> in other later <UNK> films , he tends \n",
            "\n",
            "Prediction: 1 \tCorrect Output: 1\n",
            "Input: <UNK> , <UNK> don't watch action movies because of the fact that they are usually all pretty similar . <UNK> movie did have many stereotypical action movie scenes , but the characters and the originality of the film's premise made it much easier to watch . <UNK> <UNK> <UNK> his normal acting approach , which was great to see . <UNK> <UNK> , of course , was beautiful and did great acting . <UNK> cast all together . <UNK> must see for people bored with the same old action movie . \n",
            "\n",
            "[TEST]\t Loss: 0.4104\t Accuracy: 82.66%\n"
          ]
        }
      ],
      "source": [
        "evaluation = evaluate(cnn_model, test_loader, criterion, use_tqdm=True) # compute test data accuracy"
      ]
    },
    {
      "cell_type": "markdown",
      "metadata": {
        "id": "BRCFvjwDthiA"
      },
      "source": [
        "## Recurrent Neural Network: The RNN Class\n",
        "\n",
        "The text classification model based on recurrences is defined here. The following functions are implemented:\n",
        "\n",
        "* **Initialization** (i.e., `__init__(self, ...)`): Initializes the following layers and other features for the neural network.\n",
        "    * An embedding layer to represent the words in the vocabulary.\n",
        "    * A recurrent network (i.e. GRU) with `batch_first=True` and `bidirectional`.\n",
        "    * A dropout layer with specified `dropout`.\n",
        "    * A linear layer takes output of the last time step as input with output to each class (i.e. size is number of classes). In the bidirectional case, the outputs of the last time step of the forward and backward directions are concatenated.\n",
        "\n",
        "* **Feed Forward** (i.e., `forward(self, texts)`): Pass texts (with shape `[batch_size, max_len]`) through layers and compute the output as described below.\n",
        "    * Pass texts through the embedding layer. The output shape is `[batch_size, max_len, embed_size]`.\n",
        "    * Pass result through recurrent network.\n",
        "    * Concatenate the outputs of the last timestep for each direction.\n",
        "    * Apply dropout.\n",
        "    * Pass the output through the linear layer with shape `[batch_size, num_classes]`"
      ]
    },
    {
      "cell_type": "code",
      "execution_count": 19,
      "metadata": {
        "id": "2nc_HxbP6klI"
      },
      "outputs": [],
      "source": [
        "class RNN(nn.Module):\n",
        "  def __init__(self, vocab_size, embed_size, hidden_size, num_layers, bidirectional, dropout, num_classes, pad_idx):\n",
        "    super(RNN, self).__init__()\n",
        "\n",
        "    self.bidirectional = bidirectional\n",
        "\n",
        "    # embedding layer\n",
        "    self.embedding = nn.Embedding(num_embeddings=vocab_size, embedding_dim=embed_size, padding_idx=pad_idx)\n",
        "    # recurrent network (GRU)\n",
        "    self.rnn = nn.GRU(input_size=embed_size, hidden_size=hidden_size, num_layers=num_layers, dropout=dropout, batch_first=True, bidirectional=bidirectional)\n",
        "    # dropout layer\n",
        "    self.dropout = nn.Dropout(dropout)\n",
        "    # linear layer\n",
        "    B = 2 if bidirectional else 1\n",
        "    self.linear = nn.Linear(B*hidden_size, num_classes)\n",
        "\n",
        "  def forward(self, texts):\n",
        "    # embed texts -- [batch_size, max_len, embed_size]\n",
        "    x = self.embedding(texts)\n",
        "    # rnn layer\n",
        "    x, hn = self.rnn(x)\n",
        "    # concatenate the outputs of the last timestep for each direction -- [batch_size, num_dirs*hidden_size]\n",
        "    x = torch.cat( (hn[-2, :, :], hn[-1, :, :]), dim=1 ) if self.bidirectional else hn[-1, :, :]\n",
        "    # apply dropout\n",
        "    x = self.dropout(x)\n",
        "    # pass output through the linear layer -- [batch_size, num_classes]\n",
        "    x = self.linear(x)\n",
        "\n",
        "    # softmax is applied in training\n",
        "    return x"
      ]
    },
    {
      "cell_type": "markdown",
      "metadata": {
        "id": "baD8lYAytdTV"
      },
      "source": [
        "### Model Training\n",
        "\n",
        "First, the train and test dataloaders are initialized."
      ]
    },
    {
      "cell_type": "code",
      "execution_count": 20,
      "metadata": {
        "id": "WCzNm8LDM5aT",
        "colab": {
          "base_uri": "https://localhost:8080/"
        },
        "outputId": "8a8dcf51-2433-429c-85c0-b0ec5af7e7fb"
      },
      "outputs": [
        {
          "output_type": "stream",
          "name": "stdout",
          "text": [
            "train vocab size: 29730\n",
            "test vocab size: 29730\n"
          ]
        }
      ],
      "source": [
        "# adjustable parameters (defaults: THRESHOLD=5, MAX_LEN=200, BATCH_SIZE=32)\n",
        "THRESHOLD = 5\n",
        "MAX_LEN = 200\n",
        "BATCH_SIZE = 32\n",
        "\n",
        "train_dataset = TextDataset(train_data, 'train', THRESHOLD, MAX_LEN)\n",
        "train_loader = torch.utils.data.DataLoader(train_dataset, batch_size=BATCH_SIZE, shuffle=True, num_workers=2, drop_last=True)\n",
        "print('train vocab size:', train_dataset.vocab_size)\n",
        "\n",
        "test_dataset = TextDataset(test_data, 'test', THRESHOLD, MAX_LEN, train_dataset.idx2word, train_dataset.word2idx)\n",
        "test_loader = torch.utils.data.DataLoader(test_dataset, batch_size=1, shuffle=False, num_workers=1, drop_last=False)\n",
        "print('test vocab size:', test_dataset.vocab_size)"
      ]
    },
    {
      "cell_type": "markdown",
      "metadata": {
        "id": "lp5pAz8emxi2"
      },
      "source": [
        "Model instantiantiation with hyperparameters.\n",
        "\n",
        "Recommended hyperparameters: \n",
        "* Vocabulary size: `train_dataset.vocab_size` (Don't change)\n",
        "* Embedding size: `128`\n",
        "* Hidden size: `128`\n",
        "* Number of layers: `2`\n",
        "* Bidirectional: `True`\n",
        "* Dropout: `0.5`\n",
        "* Number of classes: `2` (Don't change)\n",
        "* Pad token index: `train_dataset.word2idx[PAD]` (Don't change)"
      ]
    },
    {
      "cell_type": "code",
      "execution_count": 21,
      "metadata": {
        "id": "CA-UairGErap",
        "colab": {
          "base_uri": "https://localhost:8080/"
        },
        "outputId": "eeeefde1-6e4d-4177-906e-be46e46a9c6e"
      },
      "outputs": [
        {
          "output_type": "stream",
          "name": "stdout",
          "text": [
            "The model has 4,300,546 trainable parameters\n"
          ]
        }
      ],
      "source": [
        "rnn_model = RNN(vocab_size = train_dataset.vocab_size,\n",
        "            embed_size = 128, \n",
        "            hidden_size = 128, \n",
        "            num_layers = 2,\n",
        "            bidirectional = True,\n",
        "            dropout = 0.5,\n",
        "            num_classes = 2,\n",
        "            pad_idx = train_dataset.word2idx[PAD])\n",
        "\n",
        "# load your model on device\n",
        "rnn_model = rnn_model.to(DEVICE)\n",
        "\n",
        "print('The model has {:,d} trainable parameters'.format(count_parameters(rnn_model)))"
      ]
    },
    {
      "cell_type": "markdown",
      "metadata": {
        "id": "LqngFY4MoLec"
      },
      "source": [
        "Here, the same criterion and optimizer are used as with the CNN."
      ]
    },
    {
      "cell_type": "code",
      "execution_count": 22,
      "metadata": {
        "id": "em6Rs58OlJ3Z"
      },
      "outputs": [],
      "source": [
        "LEARNING_RATE = 5e-4 # adjustable parameter (default=5e-4)\n",
        "\n",
        "# loss function\n",
        "criterion = nn.CrossEntropyLoss().to(DEVICE)\n",
        "\n",
        "# optimizer\n",
        "optimizer = optim.Adam(rnn_model.parameters(), lr=LEARNING_RATE)"
      ]
    },
    {
      "cell_type": "markdown",
      "metadata": {
        "id": "uEPsi3choUm5"
      },
      "source": [
        "Here the model is trained (it is recommended to use GPU for faster training time ~2 minutes)."
      ]
    },
    {
      "cell_type": "code",
      "execution_count": 23,
      "metadata": {
        "id": "NR8Wckf0l2G7",
        "colab": {
          "base_uri": "https://localhost:8080/",
          "height": 275,
          "referenced_widgets": [
            "9dd5920d6f1340a08039c156cdc6958a",
            "9c1953fc4dc4472fb77d143596caa8e3",
            "60989fd8257a41c09801dc16c3c34ab4",
            "026bd4b6e4b1478392f6069de7d11df7",
            "2a31d852c05b41a2ac4dda4bed61976e",
            "7e7b472948a44fbfad648c2ebd7e4bf2",
            "89b5f028092043caafc0662c2c11b63a",
            "f9c7c01c17ea4e6a89d3e5647bd5202d",
            "ec14adfbbdcd4de5934801812f3316c2",
            "62bc0be7c12944679f4d8f20da592ade",
            "d387e21d7aec4b02b10cfda72e686155"
          ]
        },
        "outputId": "e292d2a8-2f66-4286-d152-ce7353464276"
      },
      "outputs": [
        {
          "output_type": "stream",
          "name": "stdout",
          "text": [
            "Training Model...\n"
          ]
        },
        {
          "output_type": "display_data",
          "data": {
            "text/plain": [
              "  0%|          | 0/10 [00:00<?, ?it/s]"
            ],
            "application/vnd.jupyter.widget-view+json": {
              "version_major": 2,
              "version_minor": 0,
              "model_id": "9dd5920d6f1340a08039c156cdc6958a"
            }
          },
          "metadata": {}
        },
        {
          "output_type": "stream",
          "name": "stdout",
          "text": [
            "[TRAIN]\t Epoch:  1\t Loss: 0.6702\t Train Accuracy: 58.11%\n",
            "[TRAIN]\t Epoch:  2\t Loss: 0.5663\t Train Accuracy: 71.33%\n",
            "[TRAIN]\t Epoch:  3\t Loss: 0.4362\t Train Accuracy: 80.58%\n",
            "[TRAIN]\t Epoch:  4\t Loss: 0.3320\t Train Accuracy: 86.39%\n",
            "[TRAIN]\t Epoch:  5\t Loss: 0.2618\t Train Accuracy: 89.97%\n",
            "[TRAIN]\t Epoch:  6\t Loss: 0.2011\t Train Accuracy: 92.58%\n",
            "[TRAIN]\t Epoch:  7\t Loss: 0.1458\t Train Accuracy: 94.72%\n",
            "[TRAIN]\t Epoch:  8\t Loss: 0.0974\t Train Accuracy: 96.78%\n",
            "[TRAIN]\t Epoch:  9\t Loss: 0.0678\t Train Accuracy: 97.82%\n",
            "[TRAIN]\t Epoch: 10\t Loss: 0.0448\t Train Accuracy: 98.55%\n",
            "Model Trained!\n",
            "\n"
          ]
        }
      ],
      "source": [
        "N_EPOCHS = 10 # adjustable parameter (default=6)\n",
        "\n",
        "# train model for N_EPOCHS epochs\n",
        "train_model(rnn_model, N_EPOCHS, train_loader, optimizer, criterion)"
      ]
    },
    {
      "cell_type": "markdown",
      "metadata": {
        "id": "j-SRIFfooYk6"
      },
      "source": [
        "### Model Evaluation\n",
        "\n",
        "Now the RNN is evaluated."
      ]
    },
    {
      "cell_type": "code",
      "execution_count": 24,
      "metadata": {
        "id": "HYon4AbHl5_M",
        "colab": {
          "base_uri": "https://localhost:8080/",
          "height": 607,
          "referenced_widgets": [
            "6035064c203144998a74f94bafd67f28",
            "83905560531f480f97171fe391b46b33",
            "a1f154ac52324d1c863a947b6c4b19da",
            "9196801f06a64d249229fd2eb8841f16",
            "6e92f833d1e6488bbcd6f470dc0710db",
            "120b1c3000e648729897e0dc9066fa7d",
            "4ac90fd3d91741f99cab39592760b475",
            "eead325616ac48ad9fcb43cc197d5eae",
            "0e9da6870bc54949beaec0ead4148a00",
            "ef9166e2c8484a09b7701d9d20798e29",
            "801195d25f4740fda1a7b3710670140c"
          ]
        },
        "outputId": "13d8297e-f4c5-4a40-fdd7-24aa0e421e51"
      },
      "outputs": [
        {
          "output_type": "stream",
          "name": "stdout",
          "text": [
            "Evaluating performance on the test dataset...\n",
            "\n",
            "SOME PREDICTIONS FROM THE MODEL:\n"
          ]
        },
        {
          "output_type": "display_data",
          "data": {
            "text/plain": [
              "  0%|          | 0/5000 [00:00<?, ?it/s]"
            ],
            "application/vnd.jupyter.widget-view+json": {
              "version_major": 2,
              "version_minor": 0,
              "model_id": "6035064c203144998a74f94bafd67f28"
            }
          },
          "metadata": {}
        },
        {
          "output_type": "stream",
          "name": "stdout",
          "text": [
            "Prediction: 0 \tCorrect Output: 0\n",
            "Input: <UNK> saw the <UNK> . showing and <UNK> must say that this movie was nothing special . <UNK> <UNK> did not leave the theater wanting my time back ( as <UNK> don't actually pay for movies anymore ) <UNK> didn't really find any redeeming <UNK> /><br <UNK> were a few lines and such that made me chuckle , but mostly the film seemed to consist of rampant fan service to the younger ( in mind more than age as this film is rated <UNK> ) male audience . <UNK> fan service seemed out of place and rather distracting as well . <UNK> know you all want to hear <UNK> <UNK> . say his infamous line , but let's be honest , it's a whole lot of hype for very little pay off . <UNK> only truly horrible part of the film was the <UNK> , which looked very <UNK> and did not mesh well with the live action on the screen.<br /><br <UNK> <UNK> am a reasonable man , <UNK> knew going into the theater that <UNK> wasn't going to be seeing \" <UNK> \" and <UNK> am at least thankful that this film is an original ( <UNK> inane \n",
            "\n",
            "Prediction: 0 \tCorrect Output: 0\n",
            "Input: <UNK> <UNK> had some great actors in it ! <UNK> they had forgotten how to act . <UNK> was hoping the movie would get better as it went along but the acting was so robotic it was doomed from the very start . <UNK> actually appeared that maybe the actors were reading from a script the whole time . <UNK> it was the <UNK> score or the <UNK> himself , but one thing is for sure the <UNK> artist needs to get another job  ! <UNK> <UNK> <UNK> was so thick you could see it <UNK> on the actors faces  ! <UNK> not recommend this movie to anyone , no wonder it never hit the <UNK> . <UNK> <UNK> <UNK> . / <UNK> <UNK> shame on you guys for not giving it your all . <UNK> <UNK> was great just needed a whole lot more . \n",
            "\n",
            "Prediction: 0 \tCorrect Output: 0\n",
            "Input: <UNK> is a strange , strange film based on the novel \" <UNK> <UNK> <UNK> <UNK> \" by <UNK> . <UNK> unleash criticism at the film feels really unkind , since it is a movie that deals with earnest themes like humanity , and pleas for upright moral standards and tolerance . <UNK> in spite of its honourable intentions and its well-meaning tone , <UNK> simply isn't a very good film . <UNK> me , the main problem is the terribly disjointed narrative which can't make its mind up how best to convey its message . <UNK> first half of the movie is like watching a standard jungle expedition flick of the <UNK> ilk ; later it <UNK> into sci-fi fable ; by the end it slips into courtroom melodramatics . <UNK> differences in tone between each section of the movie are too great , too jarring , to overlook . <UNK> stick out like a sore thumb and remind you constantly that you're watching a muddled , <UNK> movie.<br /><br <UNK> archaeological expedition into the jungles of <UNK> <UNK> is led by adventurer <UNK> <UNK> ( <UNK> <UNK> . <UNK> of the main <UNK> involved in the excursion is \n",
            "\n",
            "Prediction: 0 \tCorrect Output: 0\n",
            "Input: <UNK> watched this film on the <UNK> <UNK> recently . <UNK> my opinion , the film started out decent enough , but eventually got <UNK> /><br <UNK> <UNK> : <UNK> <UNK> . soldier in <UNK> receives one of the <UNK> cards that a woman back in the <UNK> . has sent out to troops for <UNK> . <UNK> becomes so inspired by the <UNK> card that he feels it has given him a ray of hope and happiness in his life , a motivation to continue on . <UNK> he is given leave , he goes to the very town that the woman lives in . <UNK> comes across and spunky young woman and eventually finds out that she is the one that sent the <UNK> card . <UNK> meets the family and after saving her dad ( a <UNK> <UNK> <UNK> ) from getting hit by a car whilst crossing the street , the family decides to take him in for a while . <UNK> learn that he doesn't have a family back home . <UNK> soldier agrees to help out the family during the <UNK> season by working with them at their <UNK> company . <UNK> family comes \n",
            "\n",
            "Prediction: 0 \tCorrect Output: 0\n",
            "Input: <UNK> awful <UNK> <UNK> vehicle where he goes from being a thief to police <UNK> /><br <UNK> <UNK> was an excellent character actor , he was certainly no leading man and this film proves it.<br /><br <UNK> is absolutely beyond stupidity . <UNK> <UNK> did provide some comic relief until a moment of anger led him to fire his gun with tragedy <UNK> /><br <UNK> , <UNK> <UNK> and co-star <UNK> <UNK> committed suicide in real life . <UNK> making a film as deplorable as this , it is not <UNK> /><br <UNK> usual appealing <UNK> <UNK> is really nothing here . \n",
            "\n",
            "Prediction: 0 \tCorrect Output: 0\n",
            "Input: <UNK> saw this film last night following a lot of good reviews from many sources . <UNK> would like to point out that if your not ready to try and work out continuously who is who and what it all means you will hate this film.<br /><br <UNK> am still struggling to understand the roles of the actors in this film , the film jumps from different stories and does not allow you to really empathise with any of the roles.<br /><br <UNK> the political <UNK> and those interested in corruption in other world governments out there this film is probably quite good , but to the average movie watcher this film is <UNK> boring in places and you will leave the cinema confused and annoyed that you paid the entrance <UNK> /><br />see it if your ready to focus 100% on every minute detail or politics interest you . don't see it , if you actually like watching films . \n",
            "\n",
            "Prediction: 1 \tCorrect Output: 1\n",
            "Input: <UNK> /><br <UNK> the very moment <UNK> saw a local film critic trash this movie in a review on the <UNK> news , <UNK> wanted to see it . <UNK> don't remember who it was , or which local <UNK> <UNK> carried the review , but the critic was very insistent that this film was way too sleazy for the average <UNK> <UNK> . <UNK> showed a snippet from the scene where <UNK> <UNK> is about to kidnap <UNK> when she's swimming in the pool . <UNK> character is <UNK> her on how nice her body is and so forth , using many words that the local station felt necessary to edit out . <UNK> was hooked . <UNK> was one problem , though . <UNK> was only 13 years old at the time , and <UNK> had to wait a year until it came out on cable . <UNK> just say , it was worth the <UNK> /><br <UNK> ever there was a guilty pleasure of mine , this movie is it . <UNK> call this film sleazy would be a huge understatement . <UNK> film centers around a successful businessman who is blackmailed by three small time scumbags \n",
            "\n",
            "Prediction: 0 \tCorrect Output: 1\n",
            "Input: <UNK> movie is stuffed full of stock <UNK> movie goodies : chained lunatics , <UNK> murder , a mad ( vaguely lesbian ) female scientist with an even <UNK> father who wears a mask because of his horrible <UNK> , poisoning , spooky castles , werewolves ( male and <UNK> , adultery , slain lovers , <UNK> <UNK> , the <UNK> victim of some unnamed experiment , grave robbing , mind control , <UNK> up bodies , a car crash on a lonely road , electrocution , knights in armour - the lot , all topped off with an incredibly awful score and some of the worst <UNK> work ever done.<br /><br <UNK> script is incomprehensible ( even by badly dubbed <UNK> <UNK> movie standards ) and some of the editing is just bizarre . <UNK> one scene where the lead female evil scientist goes to visit our heroine in her bedroom for one of the badly dubbed : \" <UNK> is fantastical . <UNK> do not understand . <UNK> to me again how this is... \" exposition scenes that litter this movie , there is a sudden hand held <UNK> of the girl's thighs as she gets out of \n",
            "\n",
            "Prediction: 1 \tCorrect Output: 1\n",
            "Input: <UNK> tragically wonderful movie.. . brings us to a <UNK> that does not exist anymore . <UNK> <UNK> technical expertise , <UNK> have yet to see a ( hollywood ) movie that can match the authenticity of the atmosphere in this small town by the river near the <UNK> . <UNK> <UNK> <UNK> <UNK> <UNK> looked liked the last installment of the <UNK> of <UNK> <UNK> in trying to capture rural <UNK> <UNK> /><br <UNK> you like serene but intense story lines , this is a must see film . <UNK> will be a respite from hollow flashy films much like the last 1000 blockbusters you saw . <UNK> think this is one of <UNK> better stories.<br /><br <UNK> if it's a movie about <UNK> and brothels and the complicated rules that <UNK> life in such settings , it did not turn into a skin flick . <UNK> characters are full of depth and act with much intensity . \n",
            "\n",
            "[TEST]\t Loss: 0.8557\t Accuracy: 81.64%\n"
          ]
        }
      ],
      "source": [
        "evaluation = evaluate(rnn_model, test_loader, criterion, use_tqdm=True) # compute test data accuracy"
      ]
    }
  ],
  "metadata": {
    "accelerator": "GPU",
    "colab": {
      "provenance": [],
      "toc_visible": true
    },
    "gpuClass": "standard",
    "kernelspec": {
      "display_name": "Python 3",
      "name": "python3"
    },
    "language_info": {
      "codemirror_mode": {
        "name": "ipython",
        "version": 3
      },
      "file_extension": ".py",
      "mimetype": "text/x-python",
      "name": "python",
      "nbconvert_exporter": "python",
      "pygments_lexer": "ipython3",
      "version": "3.6.2"
    },
    "widgets": {
      "application/vnd.jupyter.widget-state+json": {
        "926559cbbb094ffeb96d5dac2afe02f4": {
          "model_module": "@jupyter-widgets/controls",
          "model_name": "HBoxModel",
          "model_module_version": "1.5.0",
          "state": {
            "_dom_classes": [],
            "_model_module": "@jupyter-widgets/controls",
            "_model_module_version": "1.5.0",
            "_model_name": "HBoxModel",
            "_view_count": null,
            "_view_module": "@jupyter-widgets/controls",
            "_view_module_version": "1.5.0",
            "_view_name": "HBoxView",
            "box_style": "",
            "children": [
              "IPY_MODEL_99027d20afb142a5aa40a35582c6926d",
              "IPY_MODEL_c074487989f24788b20646941f3a14d3",
              "IPY_MODEL_582e97c665ef452b955b74fad8f1a8b0"
            ],
            "layout": "IPY_MODEL_31c25a122de348e089d55c7ca8e8c098"
          }
        },
        "99027d20afb142a5aa40a35582c6926d": {
          "model_module": "@jupyter-widgets/controls",
          "model_name": "HTMLModel",
          "model_module_version": "1.5.0",
          "state": {
            "_dom_classes": [],
            "_model_module": "@jupyter-widgets/controls",
            "_model_module_version": "1.5.0",
            "_model_name": "HTMLModel",
            "_view_count": null,
            "_view_module": "@jupyter-widgets/controls",
            "_view_module_version": "1.5.0",
            "_view_name": "HTMLView",
            "description": "",
            "description_tooltip": null,
            "layout": "IPY_MODEL_a60eb082ff854b7bb5bd3bdc40b3f589",
            "placeholder": "​",
            "style": "IPY_MODEL_e19b9b11aa5049ad8bef6c363087594c",
            "value": "100%"
          }
        },
        "c074487989f24788b20646941f3a14d3": {
          "model_module": "@jupyter-widgets/controls",
          "model_name": "FloatProgressModel",
          "model_module_version": "1.5.0",
          "state": {
            "_dom_classes": [],
            "_model_module": "@jupyter-widgets/controls",
            "_model_module_version": "1.5.0",
            "_model_name": "FloatProgressModel",
            "_view_count": null,
            "_view_module": "@jupyter-widgets/controls",
            "_view_module_version": "1.5.0",
            "_view_name": "ProgressView",
            "bar_style": "success",
            "description": "",
            "description_tooltip": null,
            "layout": "IPY_MODEL_7c66721888034de69865c5a178dbd438",
            "max": 10,
            "min": 0,
            "orientation": "horizontal",
            "style": "IPY_MODEL_a0623b2409b5446984579b8e64ad6d3b",
            "value": 10
          }
        },
        "582e97c665ef452b955b74fad8f1a8b0": {
          "model_module": "@jupyter-widgets/controls",
          "model_name": "HTMLModel",
          "model_module_version": "1.5.0",
          "state": {
            "_dom_classes": [],
            "_model_module": "@jupyter-widgets/controls",
            "_model_module_version": "1.5.0",
            "_model_name": "HTMLModel",
            "_view_count": null,
            "_view_module": "@jupyter-widgets/controls",
            "_view_module_version": "1.5.0",
            "_view_name": "HTMLView",
            "description": "",
            "description_tooltip": null,
            "layout": "IPY_MODEL_70dc4fb7c2f544478656914384cbe8c8",
            "placeholder": "​",
            "style": "IPY_MODEL_2865e9e997834be9ae710dbeb5da5024",
            "value": " 10/10 [03:57&lt;00:00, 23.24s/it]"
          }
        },
        "31c25a122de348e089d55c7ca8e8c098": {
          "model_module": "@jupyter-widgets/base",
          "model_name": "LayoutModel",
          "model_module_version": "1.2.0",
          "state": {
            "_model_module": "@jupyter-widgets/base",
            "_model_module_version": "1.2.0",
            "_model_name": "LayoutModel",
            "_view_count": null,
            "_view_module": "@jupyter-widgets/base",
            "_view_module_version": "1.2.0",
            "_view_name": "LayoutView",
            "align_content": null,
            "align_items": null,
            "align_self": null,
            "border": null,
            "bottom": null,
            "display": null,
            "flex": null,
            "flex_flow": null,
            "grid_area": null,
            "grid_auto_columns": null,
            "grid_auto_flow": null,
            "grid_auto_rows": null,
            "grid_column": null,
            "grid_gap": null,
            "grid_row": null,
            "grid_template_areas": null,
            "grid_template_columns": null,
            "grid_template_rows": null,
            "height": null,
            "justify_content": null,
            "justify_items": null,
            "left": null,
            "margin": null,
            "max_height": null,
            "max_width": null,
            "min_height": null,
            "min_width": null,
            "object_fit": null,
            "object_position": null,
            "order": null,
            "overflow": null,
            "overflow_x": null,
            "overflow_y": null,
            "padding": null,
            "right": null,
            "top": null,
            "visibility": null,
            "width": null
          }
        },
        "a60eb082ff854b7bb5bd3bdc40b3f589": {
          "model_module": "@jupyter-widgets/base",
          "model_name": "LayoutModel",
          "model_module_version": "1.2.0",
          "state": {
            "_model_module": "@jupyter-widgets/base",
            "_model_module_version": "1.2.0",
            "_model_name": "LayoutModel",
            "_view_count": null,
            "_view_module": "@jupyter-widgets/base",
            "_view_module_version": "1.2.0",
            "_view_name": "LayoutView",
            "align_content": null,
            "align_items": null,
            "align_self": null,
            "border": null,
            "bottom": null,
            "display": null,
            "flex": null,
            "flex_flow": null,
            "grid_area": null,
            "grid_auto_columns": null,
            "grid_auto_flow": null,
            "grid_auto_rows": null,
            "grid_column": null,
            "grid_gap": null,
            "grid_row": null,
            "grid_template_areas": null,
            "grid_template_columns": null,
            "grid_template_rows": null,
            "height": null,
            "justify_content": null,
            "justify_items": null,
            "left": null,
            "margin": null,
            "max_height": null,
            "max_width": null,
            "min_height": null,
            "min_width": null,
            "object_fit": null,
            "object_position": null,
            "order": null,
            "overflow": null,
            "overflow_x": null,
            "overflow_y": null,
            "padding": null,
            "right": null,
            "top": null,
            "visibility": null,
            "width": null
          }
        },
        "e19b9b11aa5049ad8bef6c363087594c": {
          "model_module": "@jupyter-widgets/controls",
          "model_name": "DescriptionStyleModel",
          "model_module_version": "1.5.0",
          "state": {
            "_model_module": "@jupyter-widgets/controls",
            "_model_module_version": "1.5.0",
            "_model_name": "DescriptionStyleModel",
            "_view_count": null,
            "_view_module": "@jupyter-widgets/base",
            "_view_module_version": "1.2.0",
            "_view_name": "StyleView",
            "description_width": ""
          }
        },
        "7c66721888034de69865c5a178dbd438": {
          "model_module": "@jupyter-widgets/base",
          "model_name": "LayoutModel",
          "model_module_version": "1.2.0",
          "state": {
            "_model_module": "@jupyter-widgets/base",
            "_model_module_version": "1.2.0",
            "_model_name": "LayoutModel",
            "_view_count": null,
            "_view_module": "@jupyter-widgets/base",
            "_view_module_version": "1.2.0",
            "_view_name": "LayoutView",
            "align_content": null,
            "align_items": null,
            "align_self": null,
            "border": null,
            "bottom": null,
            "display": null,
            "flex": null,
            "flex_flow": null,
            "grid_area": null,
            "grid_auto_columns": null,
            "grid_auto_flow": null,
            "grid_auto_rows": null,
            "grid_column": null,
            "grid_gap": null,
            "grid_row": null,
            "grid_template_areas": null,
            "grid_template_columns": null,
            "grid_template_rows": null,
            "height": null,
            "justify_content": null,
            "justify_items": null,
            "left": null,
            "margin": null,
            "max_height": null,
            "max_width": null,
            "min_height": null,
            "min_width": null,
            "object_fit": null,
            "object_position": null,
            "order": null,
            "overflow": null,
            "overflow_x": null,
            "overflow_y": null,
            "padding": null,
            "right": null,
            "top": null,
            "visibility": null,
            "width": null
          }
        },
        "a0623b2409b5446984579b8e64ad6d3b": {
          "model_module": "@jupyter-widgets/controls",
          "model_name": "ProgressStyleModel",
          "model_module_version": "1.5.0",
          "state": {
            "_model_module": "@jupyter-widgets/controls",
            "_model_module_version": "1.5.0",
            "_model_name": "ProgressStyleModel",
            "_view_count": null,
            "_view_module": "@jupyter-widgets/base",
            "_view_module_version": "1.2.0",
            "_view_name": "StyleView",
            "bar_color": null,
            "description_width": ""
          }
        },
        "70dc4fb7c2f544478656914384cbe8c8": {
          "model_module": "@jupyter-widgets/base",
          "model_name": "LayoutModel",
          "model_module_version": "1.2.0",
          "state": {
            "_model_module": "@jupyter-widgets/base",
            "_model_module_version": "1.2.0",
            "_model_name": "LayoutModel",
            "_view_count": null,
            "_view_module": "@jupyter-widgets/base",
            "_view_module_version": "1.2.0",
            "_view_name": "LayoutView",
            "align_content": null,
            "align_items": null,
            "align_self": null,
            "border": null,
            "bottom": null,
            "display": null,
            "flex": null,
            "flex_flow": null,
            "grid_area": null,
            "grid_auto_columns": null,
            "grid_auto_flow": null,
            "grid_auto_rows": null,
            "grid_column": null,
            "grid_gap": null,
            "grid_row": null,
            "grid_template_areas": null,
            "grid_template_columns": null,
            "grid_template_rows": null,
            "height": null,
            "justify_content": null,
            "justify_items": null,
            "left": null,
            "margin": null,
            "max_height": null,
            "max_width": null,
            "min_height": null,
            "min_width": null,
            "object_fit": null,
            "object_position": null,
            "order": null,
            "overflow": null,
            "overflow_x": null,
            "overflow_y": null,
            "padding": null,
            "right": null,
            "top": null,
            "visibility": null,
            "width": null
          }
        },
        "2865e9e997834be9ae710dbeb5da5024": {
          "model_module": "@jupyter-widgets/controls",
          "model_name": "DescriptionStyleModel",
          "model_module_version": "1.5.0",
          "state": {
            "_model_module": "@jupyter-widgets/controls",
            "_model_module_version": "1.5.0",
            "_model_name": "DescriptionStyleModel",
            "_view_count": null,
            "_view_module": "@jupyter-widgets/base",
            "_view_module_version": "1.2.0",
            "_view_name": "StyleView",
            "description_width": ""
          }
        },
        "1a14010cbc374183a341a377b45d478c": {
          "model_module": "@jupyter-widgets/controls",
          "model_name": "HBoxModel",
          "model_module_version": "1.5.0",
          "state": {
            "_dom_classes": [],
            "_model_module": "@jupyter-widgets/controls",
            "_model_module_version": "1.5.0",
            "_model_name": "HBoxModel",
            "_view_count": null,
            "_view_module": "@jupyter-widgets/controls",
            "_view_module_version": "1.5.0",
            "_view_name": "HBoxView",
            "box_style": "",
            "children": [
              "IPY_MODEL_140f446b3717414cbbe83baa48ae1e3f",
              "IPY_MODEL_94e9a42a926f4ae5978e7c5bcd4f46ba",
              "IPY_MODEL_b010deff55814a9bb5502d304f205281"
            ],
            "layout": "IPY_MODEL_2b1e2ddaf9eb4cc0accb9a7375229c0f"
          }
        },
        "140f446b3717414cbbe83baa48ae1e3f": {
          "model_module": "@jupyter-widgets/controls",
          "model_name": "HTMLModel",
          "model_module_version": "1.5.0",
          "state": {
            "_dom_classes": [],
            "_model_module": "@jupyter-widgets/controls",
            "_model_module_version": "1.5.0",
            "_model_name": "HTMLModel",
            "_view_count": null,
            "_view_module": "@jupyter-widgets/controls",
            "_view_module_version": "1.5.0",
            "_view_name": "HTMLView",
            "description": "",
            "description_tooltip": null,
            "layout": "IPY_MODEL_06d0c0da2c7548cba04ecfcaa85aa989",
            "placeholder": "​",
            "style": "IPY_MODEL_98cf1e6b29d14238b5723d88a73ccc30",
            "value": "100%"
          }
        },
        "94e9a42a926f4ae5978e7c5bcd4f46ba": {
          "model_module": "@jupyter-widgets/controls",
          "model_name": "FloatProgressModel",
          "model_module_version": "1.5.0",
          "state": {
            "_dom_classes": [],
            "_model_module": "@jupyter-widgets/controls",
            "_model_module_version": "1.5.0",
            "_model_name": "FloatProgressModel",
            "_view_count": null,
            "_view_module": "@jupyter-widgets/controls",
            "_view_module_version": "1.5.0",
            "_view_name": "ProgressView",
            "bar_style": "success",
            "description": "",
            "description_tooltip": null,
            "layout": "IPY_MODEL_bfde66d9875f4663bffe1976f691538e",
            "max": 5000,
            "min": 0,
            "orientation": "horizontal",
            "style": "IPY_MODEL_317b909977c744f4ac6fef92f892d9cc",
            "value": 5000
          }
        },
        "b010deff55814a9bb5502d304f205281": {
          "model_module": "@jupyter-widgets/controls",
          "model_name": "HTMLModel",
          "model_module_version": "1.5.0",
          "state": {
            "_dom_classes": [],
            "_model_module": "@jupyter-widgets/controls",
            "_model_module_version": "1.5.0",
            "_model_name": "HTMLModel",
            "_view_count": null,
            "_view_module": "@jupyter-widgets/controls",
            "_view_module_version": "1.5.0",
            "_view_name": "HTMLView",
            "description": "",
            "description_tooltip": null,
            "layout": "IPY_MODEL_60c007656db04199a5618d69f05c7ab5",
            "placeholder": "​",
            "style": "IPY_MODEL_934a3a2810b243f286b0b9c5a84e0102",
            "value": " 5000/5000 [00:15&lt;00:00, 302.67it/s]"
          }
        },
        "2b1e2ddaf9eb4cc0accb9a7375229c0f": {
          "model_module": "@jupyter-widgets/base",
          "model_name": "LayoutModel",
          "model_module_version": "1.2.0",
          "state": {
            "_model_module": "@jupyter-widgets/base",
            "_model_module_version": "1.2.0",
            "_model_name": "LayoutModel",
            "_view_count": null,
            "_view_module": "@jupyter-widgets/base",
            "_view_module_version": "1.2.0",
            "_view_name": "LayoutView",
            "align_content": null,
            "align_items": null,
            "align_self": null,
            "border": null,
            "bottom": null,
            "display": null,
            "flex": null,
            "flex_flow": null,
            "grid_area": null,
            "grid_auto_columns": null,
            "grid_auto_flow": null,
            "grid_auto_rows": null,
            "grid_column": null,
            "grid_gap": null,
            "grid_row": null,
            "grid_template_areas": null,
            "grid_template_columns": null,
            "grid_template_rows": null,
            "height": null,
            "justify_content": null,
            "justify_items": null,
            "left": null,
            "margin": null,
            "max_height": null,
            "max_width": null,
            "min_height": null,
            "min_width": null,
            "object_fit": null,
            "object_position": null,
            "order": null,
            "overflow": null,
            "overflow_x": null,
            "overflow_y": null,
            "padding": null,
            "right": null,
            "top": null,
            "visibility": null,
            "width": null
          }
        },
        "06d0c0da2c7548cba04ecfcaa85aa989": {
          "model_module": "@jupyter-widgets/base",
          "model_name": "LayoutModel",
          "model_module_version": "1.2.0",
          "state": {
            "_model_module": "@jupyter-widgets/base",
            "_model_module_version": "1.2.0",
            "_model_name": "LayoutModel",
            "_view_count": null,
            "_view_module": "@jupyter-widgets/base",
            "_view_module_version": "1.2.0",
            "_view_name": "LayoutView",
            "align_content": null,
            "align_items": null,
            "align_self": null,
            "border": null,
            "bottom": null,
            "display": null,
            "flex": null,
            "flex_flow": null,
            "grid_area": null,
            "grid_auto_columns": null,
            "grid_auto_flow": null,
            "grid_auto_rows": null,
            "grid_column": null,
            "grid_gap": null,
            "grid_row": null,
            "grid_template_areas": null,
            "grid_template_columns": null,
            "grid_template_rows": null,
            "height": null,
            "justify_content": null,
            "justify_items": null,
            "left": null,
            "margin": null,
            "max_height": null,
            "max_width": null,
            "min_height": null,
            "min_width": null,
            "object_fit": null,
            "object_position": null,
            "order": null,
            "overflow": null,
            "overflow_x": null,
            "overflow_y": null,
            "padding": null,
            "right": null,
            "top": null,
            "visibility": null,
            "width": null
          }
        },
        "98cf1e6b29d14238b5723d88a73ccc30": {
          "model_module": "@jupyter-widgets/controls",
          "model_name": "DescriptionStyleModel",
          "model_module_version": "1.5.0",
          "state": {
            "_model_module": "@jupyter-widgets/controls",
            "_model_module_version": "1.5.0",
            "_model_name": "DescriptionStyleModel",
            "_view_count": null,
            "_view_module": "@jupyter-widgets/base",
            "_view_module_version": "1.2.0",
            "_view_name": "StyleView",
            "description_width": ""
          }
        },
        "bfde66d9875f4663bffe1976f691538e": {
          "model_module": "@jupyter-widgets/base",
          "model_name": "LayoutModel",
          "model_module_version": "1.2.0",
          "state": {
            "_model_module": "@jupyter-widgets/base",
            "_model_module_version": "1.2.0",
            "_model_name": "LayoutModel",
            "_view_count": null,
            "_view_module": "@jupyter-widgets/base",
            "_view_module_version": "1.2.0",
            "_view_name": "LayoutView",
            "align_content": null,
            "align_items": null,
            "align_self": null,
            "border": null,
            "bottom": null,
            "display": null,
            "flex": null,
            "flex_flow": null,
            "grid_area": null,
            "grid_auto_columns": null,
            "grid_auto_flow": null,
            "grid_auto_rows": null,
            "grid_column": null,
            "grid_gap": null,
            "grid_row": null,
            "grid_template_areas": null,
            "grid_template_columns": null,
            "grid_template_rows": null,
            "height": null,
            "justify_content": null,
            "justify_items": null,
            "left": null,
            "margin": null,
            "max_height": null,
            "max_width": null,
            "min_height": null,
            "min_width": null,
            "object_fit": null,
            "object_position": null,
            "order": null,
            "overflow": null,
            "overflow_x": null,
            "overflow_y": null,
            "padding": null,
            "right": null,
            "top": null,
            "visibility": null,
            "width": null
          }
        },
        "317b909977c744f4ac6fef92f892d9cc": {
          "model_module": "@jupyter-widgets/controls",
          "model_name": "ProgressStyleModel",
          "model_module_version": "1.5.0",
          "state": {
            "_model_module": "@jupyter-widgets/controls",
            "_model_module_version": "1.5.0",
            "_model_name": "ProgressStyleModel",
            "_view_count": null,
            "_view_module": "@jupyter-widgets/base",
            "_view_module_version": "1.2.0",
            "_view_name": "StyleView",
            "bar_color": null,
            "description_width": ""
          }
        },
        "60c007656db04199a5618d69f05c7ab5": {
          "model_module": "@jupyter-widgets/base",
          "model_name": "LayoutModel",
          "model_module_version": "1.2.0",
          "state": {
            "_model_module": "@jupyter-widgets/base",
            "_model_module_version": "1.2.0",
            "_model_name": "LayoutModel",
            "_view_count": null,
            "_view_module": "@jupyter-widgets/base",
            "_view_module_version": "1.2.0",
            "_view_name": "LayoutView",
            "align_content": null,
            "align_items": null,
            "align_self": null,
            "border": null,
            "bottom": null,
            "display": null,
            "flex": null,
            "flex_flow": null,
            "grid_area": null,
            "grid_auto_columns": null,
            "grid_auto_flow": null,
            "grid_auto_rows": null,
            "grid_column": null,
            "grid_gap": null,
            "grid_row": null,
            "grid_template_areas": null,
            "grid_template_columns": null,
            "grid_template_rows": null,
            "height": null,
            "justify_content": null,
            "justify_items": null,
            "left": null,
            "margin": null,
            "max_height": null,
            "max_width": null,
            "min_height": null,
            "min_width": null,
            "object_fit": null,
            "object_position": null,
            "order": null,
            "overflow": null,
            "overflow_x": null,
            "overflow_y": null,
            "padding": null,
            "right": null,
            "top": null,
            "visibility": null,
            "width": null
          }
        },
        "934a3a2810b243f286b0b9c5a84e0102": {
          "model_module": "@jupyter-widgets/controls",
          "model_name": "DescriptionStyleModel",
          "model_module_version": "1.5.0",
          "state": {
            "_model_module": "@jupyter-widgets/controls",
            "_model_module_version": "1.5.0",
            "_model_name": "DescriptionStyleModel",
            "_view_count": null,
            "_view_module": "@jupyter-widgets/base",
            "_view_module_version": "1.2.0",
            "_view_name": "StyleView",
            "description_width": ""
          }
        },
        "9dd5920d6f1340a08039c156cdc6958a": {
          "model_module": "@jupyter-widgets/controls",
          "model_name": "HBoxModel",
          "model_module_version": "1.5.0",
          "state": {
            "_dom_classes": [],
            "_model_module": "@jupyter-widgets/controls",
            "_model_module_version": "1.5.0",
            "_model_name": "HBoxModel",
            "_view_count": null,
            "_view_module": "@jupyter-widgets/controls",
            "_view_module_version": "1.5.0",
            "_view_name": "HBoxView",
            "box_style": "",
            "children": [
              "IPY_MODEL_9c1953fc4dc4472fb77d143596caa8e3",
              "IPY_MODEL_60989fd8257a41c09801dc16c3c34ab4",
              "IPY_MODEL_026bd4b6e4b1478392f6069de7d11df7"
            ],
            "layout": "IPY_MODEL_2a31d852c05b41a2ac4dda4bed61976e"
          }
        },
        "9c1953fc4dc4472fb77d143596caa8e3": {
          "model_module": "@jupyter-widgets/controls",
          "model_name": "HTMLModel",
          "model_module_version": "1.5.0",
          "state": {
            "_dom_classes": [],
            "_model_module": "@jupyter-widgets/controls",
            "_model_module_version": "1.5.0",
            "_model_name": "HTMLModel",
            "_view_count": null,
            "_view_module": "@jupyter-widgets/controls",
            "_view_module_version": "1.5.0",
            "_view_name": "HTMLView",
            "description": "",
            "description_tooltip": null,
            "layout": "IPY_MODEL_7e7b472948a44fbfad648c2ebd7e4bf2",
            "placeholder": "​",
            "style": "IPY_MODEL_89b5f028092043caafc0662c2c11b63a",
            "value": "100%"
          }
        },
        "60989fd8257a41c09801dc16c3c34ab4": {
          "model_module": "@jupyter-widgets/controls",
          "model_name": "FloatProgressModel",
          "model_module_version": "1.5.0",
          "state": {
            "_dom_classes": [],
            "_model_module": "@jupyter-widgets/controls",
            "_model_module_version": "1.5.0",
            "_model_name": "FloatProgressModel",
            "_view_count": null,
            "_view_module": "@jupyter-widgets/controls",
            "_view_module_version": "1.5.0",
            "_view_name": "ProgressView",
            "bar_style": "success",
            "description": "",
            "description_tooltip": null,
            "layout": "IPY_MODEL_f9c7c01c17ea4e6a89d3e5647bd5202d",
            "max": 10,
            "min": 0,
            "orientation": "horizontal",
            "style": "IPY_MODEL_ec14adfbbdcd4de5934801812f3316c2",
            "value": 10
          }
        },
        "026bd4b6e4b1478392f6069de7d11df7": {
          "model_module": "@jupyter-widgets/controls",
          "model_name": "HTMLModel",
          "model_module_version": "1.5.0",
          "state": {
            "_dom_classes": [],
            "_model_module": "@jupyter-widgets/controls",
            "_model_module_version": "1.5.0",
            "_model_name": "HTMLModel",
            "_view_count": null,
            "_view_module": "@jupyter-widgets/controls",
            "_view_module_version": "1.5.0",
            "_view_name": "HTMLView",
            "description": "",
            "description_tooltip": null,
            "layout": "IPY_MODEL_62bc0be7c12944679f4d8f20da592ade",
            "placeholder": "​",
            "style": "IPY_MODEL_d387e21d7aec4b02b10cfda72e686155",
            "value": " 10/10 [01:23&lt;00:00,  8.22s/it]"
          }
        },
        "2a31d852c05b41a2ac4dda4bed61976e": {
          "model_module": "@jupyter-widgets/base",
          "model_name": "LayoutModel",
          "model_module_version": "1.2.0",
          "state": {
            "_model_module": "@jupyter-widgets/base",
            "_model_module_version": "1.2.0",
            "_model_name": "LayoutModel",
            "_view_count": null,
            "_view_module": "@jupyter-widgets/base",
            "_view_module_version": "1.2.0",
            "_view_name": "LayoutView",
            "align_content": null,
            "align_items": null,
            "align_self": null,
            "border": null,
            "bottom": null,
            "display": null,
            "flex": null,
            "flex_flow": null,
            "grid_area": null,
            "grid_auto_columns": null,
            "grid_auto_flow": null,
            "grid_auto_rows": null,
            "grid_column": null,
            "grid_gap": null,
            "grid_row": null,
            "grid_template_areas": null,
            "grid_template_columns": null,
            "grid_template_rows": null,
            "height": null,
            "justify_content": null,
            "justify_items": null,
            "left": null,
            "margin": null,
            "max_height": null,
            "max_width": null,
            "min_height": null,
            "min_width": null,
            "object_fit": null,
            "object_position": null,
            "order": null,
            "overflow": null,
            "overflow_x": null,
            "overflow_y": null,
            "padding": null,
            "right": null,
            "top": null,
            "visibility": null,
            "width": null
          }
        },
        "7e7b472948a44fbfad648c2ebd7e4bf2": {
          "model_module": "@jupyter-widgets/base",
          "model_name": "LayoutModel",
          "model_module_version": "1.2.0",
          "state": {
            "_model_module": "@jupyter-widgets/base",
            "_model_module_version": "1.2.0",
            "_model_name": "LayoutModel",
            "_view_count": null,
            "_view_module": "@jupyter-widgets/base",
            "_view_module_version": "1.2.0",
            "_view_name": "LayoutView",
            "align_content": null,
            "align_items": null,
            "align_self": null,
            "border": null,
            "bottom": null,
            "display": null,
            "flex": null,
            "flex_flow": null,
            "grid_area": null,
            "grid_auto_columns": null,
            "grid_auto_flow": null,
            "grid_auto_rows": null,
            "grid_column": null,
            "grid_gap": null,
            "grid_row": null,
            "grid_template_areas": null,
            "grid_template_columns": null,
            "grid_template_rows": null,
            "height": null,
            "justify_content": null,
            "justify_items": null,
            "left": null,
            "margin": null,
            "max_height": null,
            "max_width": null,
            "min_height": null,
            "min_width": null,
            "object_fit": null,
            "object_position": null,
            "order": null,
            "overflow": null,
            "overflow_x": null,
            "overflow_y": null,
            "padding": null,
            "right": null,
            "top": null,
            "visibility": null,
            "width": null
          }
        },
        "89b5f028092043caafc0662c2c11b63a": {
          "model_module": "@jupyter-widgets/controls",
          "model_name": "DescriptionStyleModel",
          "model_module_version": "1.5.0",
          "state": {
            "_model_module": "@jupyter-widgets/controls",
            "_model_module_version": "1.5.0",
            "_model_name": "DescriptionStyleModel",
            "_view_count": null,
            "_view_module": "@jupyter-widgets/base",
            "_view_module_version": "1.2.0",
            "_view_name": "StyleView",
            "description_width": ""
          }
        },
        "f9c7c01c17ea4e6a89d3e5647bd5202d": {
          "model_module": "@jupyter-widgets/base",
          "model_name": "LayoutModel",
          "model_module_version": "1.2.0",
          "state": {
            "_model_module": "@jupyter-widgets/base",
            "_model_module_version": "1.2.0",
            "_model_name": "LayoutModel",
            "_view_count": null,
            "_view_module": "@jupyter-widgets/base",
            "_view_module_version": "1.2.0",
            "_view_name": "LayoutView",
            "align_content": null,
            "align_items": null,
            "align_self": null,
            "border": null,
            "bottom": null,
            "display": null,
            "flex": null,
            "flex_flow": null,
            "grid_area": null,
            "grid_auto_columns": null,
            "grid_auto_flow": null,
            "grid_auto_rows": null,
            "grid_column": null,
            "grid_gap": null,
            "grid_row": null,
            "grid_template_areas": null,
            "grid_template_columns": null,
            "grid_template_rows": null,
            "height": null,
            "justify_content": null,
            "justify_items": null,
            "left": null,
            "margin": null,
            "max_height": null,
            "max_width": null,
            "min_height": null,
            "min_width": null,
            "object_fit": null,
            "object_position": null,
            "order": null,
            "overflow": null,
            "overflow_x": null,
            "overflow_y": null,
            "padding": null,
            "right": null,
            "top": null,
            "visibility": null,
            "width": null
          }
        },
        "ec14adfbbdcd4de5934801812f3316c2": {
          "model_module": "@jupyter-widgets/controls",
          "model_name": "ProgressStyleModel",
          "model_module_version": "1.5.0",
          "state": {
            "_model_module": "@jupyter-widgets/controls",
            "_model_module_version": "1.5.0",
            "_model_name": "ProgressStyleModel",
            "_view_count": null,
            "_view_module": "@jupyter-widgets/base",
            "_view_module_version": "1.2.0",
            "_view_name": "StyleView",
            "bar_color": null,
            "description_width": ""
          }
        },
        "62bc0be7c12944679f4d8f20da592ade": {
          "model_module": "@jupyter-widgets/base",
          "model_name": "LayoutModel",
          "model_module_version": "1.2.0",
          "state": {
            "_model_module": "@jupyter-widgets/base",
            "_model_module_version": "1.2.0",
            "_model_name": "LayoutModel",
            "_view_count": null,
            "_view_module": "@jupyter-widgets/base",
            "_view_module_version": "1.2.0",
            "_view_name": "LayoutView",
            "align_content": null,
            "align_items": null,
            "align_self": null,
            "border": null,
            "bottom": null,
            "display": null,
            "flex": null,
            "flex_flow": null,
            "grid_area": null,
            "grid_auto_columns": null,
            "grid_auto_flow": null,
            "grid_auto_rows": null,
            "grid_column": null,
            "grid_gap": null,
            "grid_row": null,
            "grid_template_areas": null,
            "grid_template_columns": null,
            "grid_template_rows": null,
            "height": null,
            "justify_content": null,
            "justify_items": null,
            "left": null,
            "margin": null,
            "max_height": null,
            "max_width": null,
            "min_height": null,
            "min_width": null,
            "object_fit": null,
            "object_position": null,
            "order": null,
            "overflow": null,
            "overflow_x": null,
            "overflow_y": null,
            "padding": null,
            "right": null,
            "top": null,
            "visibility": null,
            "width": null
          }
        },
        "d387e21d7aec4b02b10cfda72e686155": {
          "model_module": "@jupyter-widgets/controls",
          "model_name": "DescriptionStyleModel",
          "model_module_version": "1.5.0",
          "state": {
            "_model_module": "@jupyter-widgets/controls",
            "_model_module_version": "1.5.0",
            "_model_name": "DescriptionStyleModel",
            "_view_count": null,
            "_view_module": "@jupyter-widgets/base",
            "_view_module_version": "1.2.0",
            "_view_name": "StyleView",
            "description_width": ""
          }
        },
        "6035064c203144998a74f94bafd67f28": {
          "model_module": "@jupyter-widgets/controls",
          "model_name": "HBoxModel",
          "model_module_version": "1.5.0",
          "state": {
            "_dom_classes": [],
            "_model_module": "@jupyter-widgets/controls",
            "_model_module_version": "1.5.0",
            "_model_name": "HBoxModel",
            "_view_count": null,
            "_view_module": "@jupyter-widgets/controls",
            "_view_module_version": "1.5.0",
            "_view_name": "HBoxView",
            "box_style": "",
            "children": [
              "IPY_MODEL_83905560531f480f97171fe391b46b33",
              "IPY_MODEL_a1f154ac52324d1c863a947b6c4b19da",
              "IPY_MODEL_9196801f06a64d249229fd2eb8841f16"
            ],
            "layout": "IPY_MODEL_6e92f833d1e6488bbcd6f470dc0710db"
          }
        },
        "83905560531f480f97171fe391b46b33": {
          "model_module": "@jupyter-widgets/controls",
          "model_name": "HTMLModel",
          "model_module_version": "1.5.0",
          "state": {
            "_dom_classes": [],
            "_model_module": "@jupyter-widgets/controls",
            "_model_module_version": "1.5.0",
            "_model_name": "HTMLModel",
            "_view_count": null,
            "_view_module": "@jupyter-widgets/controls",
            "_view_module_version": "1.5.0",
            "_view_name": "HTMLView",
            "description": "",
            "description_tooltip": null,
            "layout": "IPY_MODEL_120b1c3000e648729897e0dc9066fa7d",
            "placeholder": "​",
            "style": "IPY_MODEL_4ac90fd3d91741f99cab39592760b475",
            "value": "100%"
          }
        },
        "a1f154ac52324d1c863a947b6c4b19da": {
          "model_module": "@jupyter-widgets/controls",
          "model_name": "FloatProgressModel",
          "model_module_version": "1.5.0",
          "state": {
            "_dom_classes": [],
            "_model_module": "@jupyter-widgets/controls",
            "_model_module_version": "1.5.0",
            "_model_name": "FloatProgressModel",
            "_view_count": null,
            "_view_module": "@jupyter-widgets/controls",
            "_view_module_version": "1.5.0",
            "_view_name": "ProgressView",
            "bar_style": "success",
            "description": "",
            "description_tooltip": null,
            "layout": "IPY_MODEL_eead325616ac48ad9fcb43cc197d5eae",
            "max": 5000,
            "min": 0,
            "orientation": "horizontal",
            "style": "IPY_MODEL_0e9da6870bc54949beaec0ead4148a00",
            "value": 5000
          }
        },
        "9196801f06a64d249229fd2eb8841f16": {
          "model_module": "@jupyter-widgets/controls",
          "model_name": "HTMLModel",
          "model_module_version": "1.5.0",
          "state": {
            "_dom_classes": [],
            "_model_module": "@jupyter-widgets/controls",
            "_model_module_version": "1.5.0",
            "_model_name": "HTMLModel",
            "_view_count": null,
            "_view_module": "@jupyter-widgets/controls",
            "_view_module_version": "1.5.0",
            "_view_name": "HTMLView",
            "description": "",
            "description_tooltip": null,
            "layout": "IPY_MODEL_ef9166e2c8484a09b7701d9d20798e29",
            "placeholder": "​",
            "style": "IPY_MODEL_801195d25f4740fda1a7b3710670140c",
            "value": " 5000/5000 [00:17&lt;00:00, 287.77it/s]"
          }
        },
        "6e92f833d1e6488bbcd6f470dc0710db": {
          "model_module": "@jupyter-widgets/base",
          "model_name": "LayoutModel",
          "model_module_version": "1.2.0",
          "state": {
            "_model_module": "@jupyter-widgets/base",
            "_model_module_version": "1.2.0",
            "_model_name": "LayoutModel",
            "_view_count": null,
            "_view_module": "@jupyter-widgets/base",
            "_view_module_version": "1.2.0",
            "_view_name": "LayoutView",
            "align_content": null,
            "align_items": null,
            "align_self": null,
            "border": null,
            "bottom": null,
            "display": null,
            "flex": null,
            "flex_flow": null,
            "grid_area": null,
            "grid_auto_columns": null,
            "grid_auto_flow": null,
            "grid_auto_rows": null,
            "grid_column": null,
            "grid_gap": null,
            "grid_row": null,
            "grid_template_areas": null,
            "grid_template_columns": null,
            "grid_template_rows": null,
            "height": null,
            "justify_content": null,
            "justify_items": null,
            "left": null,
            "margin": null,
            "max_height": null,
            "max_width": null,
            "min_height": null,
            "min_width": null,
            "object_fit": null,
            "object_position": null,
            "order": null,
            "overflow": null,
            "overflow_x": null,
            "overflow_y": null,
            "padding": null,
            "right": null,
            "top": null,
            "visibility": null,
            "width": null
          }
        },
        "120b1c3000e648729897e0dc9066fa7d": {
          "model_module": "@jupyter-widgets/base",
          "model_name": "LayoutModel",
          "model_module_version": "1.2.0",
          "state": {
            "_model_module": "@jupyter-widgets/base",
            "_model_module_version": "1.2.0",
            "_model_name": "LayoutModel",
            "_view_count": null,
            "_view_module": "@jupyter-widgets/base",
            "_view_module_version": "1.2.0",
            "_view_name": "LayoutView",
            "align_content": null,
            "align_items": null,
            "align_self": null,
            "border": null,
            "bottom": null,
            "display": null,
            "flex": null,
            "flex_flow": null,
            "grid_area": null,
            "grid_auto_columns": null,
            "grid_auto_flow": null,
            "grid_auto_rows": null,
            "grid_column": null,
            "grid_gap": null,
            "grid_row": null,
            "grid_template_areas": null,
            "grid_template_columns": null,
            "grid_template_rows": null,
            "height": null,
            "justify_content": null,
            "justify_items": null,
            "left": null,
            "margin": null,
            "max_height": null,
            "max_width": null,
            "min_height": null,
            "min_width": null,
            "object_fit": null,
            "object_position": null,
            "order": null,
            "overflow": null,
            "overflow_x": null,
            "overflow_y": null,
            "padding": null,
            "right": null,
            "top": null,
            "visibility": null,
            "width": null
          }
        },
        "4ac90fd3d91741f99cab39592760b475": {
          "model_module": "@jupyter-widgets/controls",
          "model_name": "DescriptionStyleModel",
          "model_module_version": "1.5.0",
          "state": {
            "_model_module": "@jupyter-widgets/controls",
            "_model_module_version": "1.5.0",
            "_model_name": "DescriptionStyleModel",
            "_view_count": null,
            "_view_module": "@jupyter-widgets/base",
            "_view_module_version": "1.2.0",
            "_view_name": "StyleView",
            "description_width": ""
          }
        },
        "eead325616ac48ad9fcb43cc197d5eae": {
          "model_module": "@jupyter-widgets/base",
          "model_name": "LayoutModel",
          "model_module_version": "1.2.0",
          "state": {
            "_model_module": "@jupyter-widgets/base",
            "_model_module_version": "1.2.0",
            "_model_name": "LayoutModel",
            "_view_count": null,
            "_view_module": "@jupyter-widgets/base",
            "_view_module_version": "1.2.0",
            "_view_name": "LayoutView",
            "align_content": null,
            "align_items": null,
            "align_self": null,
            "border": null,
            "bottom": null,
            "display": null,
            "flex": null,
            "flex_flow": null,
            "grid_area": null,
            "grid_auto_columns": null,
            "grid_auto_flow": null,
            "grid_auto_rows": null,
            "grid_column": null,
            "grid_gap": null,
            "grid_row": null,
            "grid_template_areas": null,
            "grid_template_columns": null,
            "grid_template_rows": null,
            "height": null,
            "justify_content": null,
            "justify_items": null,
            "left": null,
            "margin": null,
            "max_height": null,
            "max_width": null,
            "min_height": null,
            "min_width": null,
            "object_fit": null,
            "object_position": null,
            "order": null,
            "overflow": null,
            "overflow_x": null,
            "overflow_y": null,
            "padding": null,
            "right": null,
            "top": null,
            "visibility": null,
            "width": null
          }
        },
        "0e9da6870bc54949beaec0ead4148a00": {
          "model_module": "@jupyter-widgets/controls",
          "model_name": "ProgressStyleModel",
          "model_module_version": "1.5.0",
          "state": {
            "_model_module": "@jupyter-widgets/controls",
            "_model_module_version": "1.5.0",
            "_model_name": "ProgressStyleModel",
            "_view_count": null,
            "_view_module": "@jupyter-widgets/base",
            "_view_module_version": "1.2.0",
            "_view_name": "StyleView",
            "bar_color": null,
            "description_width": ""
          }
        },
        "ef9166e2c8484a09b7701d9d20798e29": {
          "model_module": "@jupyter-widgets/base",
          "model_name": "LayoutModel",
          "model_module_version": "1.2.0",
          "state": {
            "_model_module": "@jupyter-widgets/base",
            "_model_module_version": "1.2.0",
            "_model_name": "LayoutModel",
            "_view_count": null,
            "_view_module": "@jupyter-widgets/base",
            "_view_module_version": "1.2.0",
            "_view_name": "LayoutView",
            "align_content": null,
            "align_items": null,
            "align_self": null,
            "border": null,
            "bottom": null,
            "display": null,
            "flex": null,
            "flex_flow": null,
            "grid_area": null,
            "grid_auto_columns": null,
            "grid_auto_flow": null,
            "grid_auto_rows": null,
            "grid_column": null,
            "grid_gap": null,
            "grid_row": null,
            "grid_template_areas": null,
            "grid_template_columns": null,
            "grid_template_rows": null,
            "height": null,
            "justify_content": null,
            "justify_items": null,
            "left": null,
            "margin": null,
            "max_height": null,
            "max_width": null,
            "min_height": null,
            "min_width": null,
            "object_fit": null,
            "object_position": null,
            "order": null,
            "overflow": null,
            "overflow_x": null,
            "overflow_y": null,
            "padding": null,
            "right": null,
            "top": null,
            "visibility": null,
            "width": null
          }
        },
        "801195d25f4740fda1a7b3710670140c": {
          "model_module": "@jupyter-widgets/controls",
          "model_name": "DescriptionStyleModel",
          "model_module_version": "1.5.0",
          "state": {
            "_model_module": "@jupyter-widgets/controls",
            "_model_module_version": "1.5.0",
            "_model_name": "DescriptionStyleModel",
            "_view_count": null,
            "_view_module": "@jupyter-widgets/base",
            "_view_module_version": "1.2.0",
            "_view_name": "StyleView",
            "description_width": ""
          }
        }
      }
    }
  },
  "nbformat": 4,
  "nbformat_minor": 0
}